{
  "nbformat": 4,
  "nbformat_minor": 5,
  "metadata": {
    "kernelspec": {
      "display_name": "Python 3",
      "language": "python",
      "name": "python3"
    },
    "language_info": {
      "codemirror_mode": {
        "name": "ipython",
        "version": 3
      },
      "file_extension": ".py",
      "mimetype": "text/x-python",
      "name": "python",
      "nbconvert_exporter": "python",
      "pygments_lexer": "ipython3",
      "version": "3.8.8"
    },
    "colab": {
      "name": "Credit Card Fraud.Project.ipynb",
      "provenance": [],
      "collapsed_sections": [
        "9b8cca45",
        "416f2ca0",
        "d3b24fa1",
        "983cb9bb",
        "ed627992"
      ],
      "include_colab_link": true
    }
  },
  "cells": [
    {
      "cell_type": "markdown",
      "metadata": {
        "id": "view-in-github",
        "colab_type": "text"
      },
      "source": [
        "<a href=\"https://colab.research.google.com/github/AniketRao/Credit-Card-Fraud-Detection/blob/main/Credit_Card_Fraud_Project.ipynb\" target=\"_parent\"><img src=\"https://colab.research.google.com/assets/colab-badge.svg\" alt=\"Open In Colab\"/></a>"
      ]
    },
    {
      "cell_type": "markdown",
      "metadata": {
        "id": "6cc38fbf"
      },
      "source": [
        " # CREDIT CARD FRAUD DETECTION\n",
        " "
      ],
      "id": "6cc38fbf"
    },
    {
      "cell_type": "markdown",
      "metadata": {
        "id": "bee83d7a"
      },
      "source": [
        "#  01.Business Problem."
      ],
      "id": "bee83d7a"
    },
    {
      "cell_type": "markdown",
      "metadata": {
        "id": "9ca6c999"
      },
      "source": [
        "**1.1 Description**"
      ],
      "id": "9ca6c999"
    },
    {
      "cell_type": "markdown",
      "metadata": {
        "id": "a7e351b0"
      },
      "source": [
        "Source: https://www.kaggle.com/mlg-ulb/creditcardfraud\n",
        "\n",
        "Data: The dataset has been collected and analysed during a research collaboration of Worldline and the Machine Learning Group (http://mlg.ulb.ac.be) of ULB (Université Libre de Bruxelles) on big data mining and fraud detection.\n",
        "\n",
        "Download creditcard.csv from Kaggle."
      ],
      "id": "a7e351b0"
    },
    {
      "cell_type": "markdown",
      "metadata": {
        "id": "5ce49e9b"
      },
      "source": [
        "**Context:**"
      ],
      "id": "5ce49e9b"
    },
    {
      "cell_type": "markdown",
      "metadata": {
        "id": "053bef0a"
      },
      "source": [
        "It is important that credit card companies are able to recognize fraudulent credit card transactions so that customers are not charged for items that they did not purchase.\n",
        "\n",
        "The dataset contains transactions made by credit cards in September 2013 by european cardholders.\n",
        "\n",
        "This dataset presents transactions that occurred in two days"
      ],
      "id": "053bef0a"
    },
    {
      "cell_type": "markdown",
      "metadata": {
        "id": "ca4077f7"
      },
      "source": [
        "**Problem statement :**"
      ],
      "id": "ca4077f7"
    },
    {
      "cell_type": "markdown",
      "metadata": {
        "id": "99a15025"
      },
      "source": [
        "Classify fraudulent and non-fraudulent credit card transactions."
      ],
      "id": "99a15025"
    },
    {
      "cell_type": "markdown",
      "metadata": {
        "id": "529b3717"
      },
      "source": [
        " # 1.2. Real-world/Business objectives and constraints."
      ],
      "id": "529b3717"
    },
    {
      "cell_type": "markdown",
      "metadata": {
        "id": "61903601"
      },
      "source": [
        "No low-latency requirement.\n",
        "\n",
        "Interpretability is important.\n",
        "\n",
        "Errors can be very costly."
      ],
      "id": "61903601"
    },
    {
      "cell_type": "markdown",
      "metadata": {
        "id": "8b66b078"
      },
      "source": [
        "# 02. Machine Learning Problem Formulation."
      ],
      "id": "8b66b078"
    },
    {
      "cell_type": "markdown",
      "metadata": {
        "id": "420e4a23"
      },
      "source": [
        "# 2.1. Data"
      ],
      "id": "420e4a23"
    },
    {
      "cell_type": "markdown",
      "metadata": {
        "id": "ec7bfeb0"
      },
      "source": [
        "**2.1.1. Data Overview**"
      ],
      "id": "ec7bfeb0"
    },
    {
      "cell_type": "markdown",
      "metadata": {
        "id": "ff81c08c"
      },
      "source": [
        "Source: https://www.kaggle.com/mlg-ulb/creditcardfraud  \n",
        "\n",
        "We have one data files that contains information about the Credit card transactions\n",
        "\n",
        "Data file's information: \n",
        "\n",
        "Creditcard.csv (V1, V2,....,V28, Time, Amount,Class)\n",
        "\n",
        "It contains only numerical input variables"
      ],
      "id": "ff81c08c"
    },
    {
      "cell_type": "markdown",
      "metadata": {
        "id": "b506f857"
      },
      "source": [
        "**2.2. Mapping the real-world problem to an ML problem**"
      ],
      "id": "b506f857"
    },
    {
      "cell_type": "markdown",
      "metadata": {
        "id": "5a5410a9"
      },
      "source": [
        "**2.2.1. Type of Machine Learning Problem**"
      ],
      "id": "5a5410a9"
    },
    {
      "cell_type": "markdown",
      "metadata": {
        "id": "624a8368"
      },
      "source": [
        "There are two different classes a credit card transaction can be classified into => classification problem"
      ],
      "id": "624a8368"
    },
    {
      "cell_type": "markdown",
      "metadata": {
        "id": "028323da"
      },
      "source": [
        "**2.2.2. Performance Metric**"
      ],
      "id": "028323da"
    },
    {
      "cell_type": "markdown",
      "metadata": {
        "id": "a8ad7b23"
      },
      "source": [
        "Source: https://www.kaggle.com/mlg-ulb/creditcardfraud \\\n",
        "\n",
        "Metric(s):\n",
        "\n",
        "f1-score\n",
        "\n",
        "Confusion matrix"
      ],
      "id": "a8ad7b23"
    },
    {
      "cell_type": "markdown",
      "metadata": {
        "id": "38511c46"
      },
      "source": [
        "**2.2.3. Machine Learing Objectives and Constraints**"
      ],
      "id": "38511c46"
    },
    {
      "cell_type": "markdown",
      "metadata": {
        "id": "0faf8f01"
      },
      "source": [
        "Objective: Predict which of the two classes the datapoints belong to. \n",
        "\n",
        "Constraints: \n",
        "\n",
        "Interpretability \n",
        "\n",
        "No Latency constraints."
      ],
      "id": "0faf8f01"
    },
    {
      "cell_type": "markdown",
      "metadata": {
        "id": "9b8cca45"
      },
      "source": [
        "# 03.Data Preprocessing."
      ],
      "id": "9b8cca45"
    },
    {
      "cell_type": "code",
      "metadata": {
        "id": "e7fd7b33"
      },
      "source": [
        "import pandas as pd\n",
        "import numpy as np\n",
        "import matplotlib.pyplot as plt\n",
        "import seaborn as sns"
      ],
      "id": "e7fd7b33",
      "execution_count": null,
      "outputs": []
    },
    {
      "cell_type": "code",
      "metadata": {
        "id": "f43091be"
      },
      "source": [
        "# Loading dataset"
      ],
      "id": "f43091be",
      "execution_count": null,
      "outputs": []
    },
    {
      "cell_type": "code",
      "metadata": {
        "colab": {
          "base_uri": "https://localhost:8080/",
          "height": 495
        },
        "id": "3b8edd74",
        "outputId": "9983f88a-cdbd-49a2-e575-e7ea94025f74"
      },
      "source": [
        "data=pd.read_csv('/content/creditcard.csv')\n",
        "data"
      ],
      "id": "3b8edd74",
      "execution_count": null,
      "outputs": [
        {
          "output_type": "error",
          "ename": "ParserError",
          "evalue": "ignored",
          "traceback": [
            "\u001b[0;31m---------------------------------------------------------------------------\u001b[0m",
            "\u001b[0;31mParserError\u001b[0m                               Traceback (most recent call last)",
            "\u001b[0;32m<ipython-input-9-7e781035346b>\u001b[0m in \u001b[0;36m<module>\u001b[0;34m()\u001b[0m\n\u001b[0;32m----> 1\u001b[0;31m \u001b[0mdata\u001b[0m\u001b[0;34m=\u001b[0m\u001b[0mpd\u001b[0m\u001b[0;34m.\u001b[0m\u001b[0mread_csv\u001b[0m\u001b[0;34m(\u001b[0m\u001b[0;34m'/content/creditcard.csv'\u001b[0m\u001b[0;34m)\u001b[0m\u001b[0;34m\u001b[0m\u001b[0;34m\u001b[0m\u001b[0m\n\u001b[0m\u001b[1;32m      2\u001b[0m \u001b[0mdata\u001b[0m\u001b[0;34m\u001b[0m\u001b[0;34m\u001b[0m\u001b[0m\n",
            "\u001b[0;32m/usr/local/lib/python3.7/dist-packages/pandas/io/parsers.py\u001b[0m in \u001b[0;36mread_csv\u001b[0;34m(filepath_or_buffer, sep, delimiter, header, names, index_col, usecols, squeeze, prefix, mangle_dupe_cols, dtype, engine, converters, true_values, false_values, skipinitialspace, skiprows, skipfooter, nrows, na_values, keep_default_na, na_filter, verbose, skip_blank_lines, parse_dates, infer_datetime_format, keep_date_col, date_parser, dayfirst, cache_dates, iterator, chunksize, compression, thousands, decimal, lineterminator, quotechar, quoting, doublequote, escapechar, comment, encoding, dialect, error_bad_lines, warn_bad_lines, delim_whitespace, low_memory, memory_map, float_precision)\u001b[0m\n\u001b[1;32m    686\u001b[0m     )\n\u001b[1;32m    687\u001b[0m \u001b[0;34m\u001b[0m\u001b[0m\n\u001b[0;32m--> 688\u001b[0;31m     \u001b[0;32mreturn\u001b[0m \u001b[0m_read\u001b[0m\u001b[0;34m(\u001b[0m\u001b[0mfilepath_or_buffer\u001b[0m\u001b[0;34m,\u001b[0m \u001b[0mkwds\u001b[0m\u001b[0;34m)\u001b[0m\u001b[0;34m\u001b[0m\u001b[0;34m\u001b[0m\u001b[0m\n\u001b[0m\u001b[1;32m    689\u001b[0m \u001b[0;34m\u001b[0m\u001b[0m\n\u001b[1;32m    690\u001b[0m \u001b[0;34m\u001b[0m\u001b[0m\n",
            "\u001b[0;32m/usr/local/lib/python3.7/dist-packages/pandas/io/parsers.py\u001b[0m in \u001b[0;36m_read\u001b[0;34m(filepath_or_buffer, kwds)\u001b[0m\n\u001b[1;32m    458\u001b[0m \u001b[0;34m\u001b[0m\u001b[0m\n\u001b[1;32m    459\u001b[0m     \u001b[0;32mtry\u001b[0m\u001b[0;34m:\u001b[0m\u001b[0;34m\u001b[0m\u001b[0;34m\u001b[0m\u001b[0m\n\u001b[0;32m--> 460\u001b[0;31m         \u001b[0mdata\u001b[0m \u001b[0;34m=\u001b[0m \u001b[0mparser\u001b[0m\u001b[0;34m.\u001b[0m\u001b[0mread\u001b[0m\u001b[0;34m(\u001b[0m\u001b[0mnrows\u001b[0m\u001b[0;34m)\u001b[0m\u001b[0;34m\u001b[0m\u001b[0;34m\u001b[0m\u001b[0m\n\u001b[0m\u001b[1;32m    461\u001b[0m     \u001b[0;32mfinally\u001b[0m\u001b[0;34m:\u001b[0m\u001b[0;34m\u001b[0m\u001b[0;34m\u001b[0m\u001b[0m\n\u001b[1;32m    462\u001b[0m         \u001b[0mparser\u001b[0m\u001b[0;34m.\u001b[0m\u001b[0mclose\u001b[0m\u001b[0;34m(\u001b[0m\u001b[0;34m)\u001b[0m\u001b[0;34m\u001b[0m\u001b[0;34m\u001b[0m\u001b[0m\n",
            "\u001b[0;32m/usr/local/lib/python3.7/dist-packages/pandas/io/parsers.py\u001b[0m in \u001b[0;36mread\u001b[0;34m(self, nrows)\u001b[0m\n\u001b[1;32m   1196\u001b[0m     \u001b[0;32mdef\u001b[0m \u001b[0mread\u001b[0m\u001b[0;34m(\u001b[0m\u001b[0mself\u001b[0m\u001b[0;34m,\u001b[0m \u001b[0mnrows\u001b[0m\u001b[0;34m=\u001b[0m\u001b[0;32mNone\u001b[0m\u001b[0;34m)\u001b[0m\u001b[0;34m:\u001b[0m\u001b[0;34m\u001b[0m\u001b[0;34m\u001b[0m\u001b[0m\n\u001b[1;32m   1197\u001b[0m         \u001b[0mnrows\u001b[0m \u001b[0;34m=\u001b[0m \u001b[0m_validate_integer\u001b[0m\u001b[0;34m(\u001b[0m\u001b[0;34m\"nrows\"\u001b[0m\u001b[0;34m,\u001b[0m \u001b[0mnrows\u001b[0m\u001b[0;34m)\u001b[0m\u001b[0;34m\u001b[0m\u001b[0;34m\u001b[0m\u001b[0m\n\u001b[0;32m-> 1198\u001b[0;31m         \u001b[0mret\u001b[0m \u001b[0;34m=\u001b[0m \u001b[0mself\u001b[0m\u001b[0;34m.\u001b[0m\u001b[0m_engine\u001b[0m\u001b[0;34m.\u001b[0m\u001b[0mread\u001b[0m\u001b[0;34m(\u001b[0m\u001b[0mnrows\u001b[0m\u001b[0;34m)\u001b[0m\u001b[0;34m\u001b[0m\u001b[0;34m\u001b[0m\u001b[0m\n\u001b[0m\u001b[1;32m   1199\u001b[0m \u001b[0;34m\u001b[0m\u001b[0m\n\u001b[1;32m   1200\u001b[0m         \u001b[0;31m# May alter columns / col_dict\u001b[0m\u001b[0;34m\u001b[0m\u001b[0;34m\u001b[0m\u001b[0;34m\u001b[0m\u001b[0m\n",
            "\u001b[0;32m/usr/local/lib/python3.7/dist-packages/pandas/io/parsers.py\u001b[0m in \u001b[0;36mread\u001b[0;34m(self, nrows)\u001b[0m\n\u001b[1;32m   2155\u001b[0m     \u001b[0;32mdef\u001b[0m \u001b[0mread\u001b[0m\u001b[0;34m(\u001b[0m\u001b[0mself\u001b[0m\u001b[0;34m,\u001b[0m \u001b[0mnrows\u001b[0m\u001b[0;34m=\u001b[0m\u001b[0;32mNone\u001b[0m\u001b[0;34m)\u001b[0m\u001b[0;34m:\u001b[0m\u001b[0;34m\u001b[0m\u001b[0;34m\u001b[0m\u001b[0m\n\u001b[1;32m   2156\u001b[0m         \u001b[0;32mtry\u001b[0m\u001b[0;34m:\u001b[0m\u001b[0;34m\u001b[0m\u001b[0;34m\u001b[0m\u001b[0m\n\u001b[0;32m-> 2157\u001b[0;31m             \u001b[0mdata\u001b[0m \u001b[0;34m=\u001b[0m \u001b[0mself\u001b[0m\u001b[0;34m.\u001b[0m\u001b[0m_reader\u001b[0m\u001b[0;34m.\u001b[0m\u001b[0mread\u001b[0m\u001b[0;34m(\u001b[0m\u001b[0mnrows\u001b[0m\u001b[0;34m)\u001b[0m\u001b[0;34m\u001b[0m\u001b[0;34m\u001b[0m\u001b[0m\n\u001b[0m\u001b[1;32m   2158\u001b[0m         \u001b[0;32mexcept\u001b[0m \u001b[0mStopIteration\u001b[0m\u001b[0;34m:\u001b[0m\u001b[0;34m\u001b[0m\u001b[0;34m\u001b[0m\u001b[0m\n\u001b[1;32m   2159\u001b[0m             \u001b[0;32mif\u001b[0m \u001b[0mself\u001b[0m\u001b[0;34m.\u001b[0m\u001b[0m_first_chunk\u001b[0m\u001b[0;34m:\u001b[0m\u001b[0;34m\u001b[0m\u001b[0;34m\u001b[0m\u001b[0m\n",
            "\u001b[0;32mpandas/_libs/parsers.pyx\u001b[0m in \u001b[0;36mpandas._libs.parsers.TextReader.read\u001b[0;34m()\u001b[0m\n",
            "\u001b[0;32mpandas/_libs/parsers.pyx\u001b[0m in \u001b[0;36mpandas._libs.parsers.TextReader._read_low_memory\u001b[0;34m()\u001b[0m\n",
            "\u001b[0;32mpandas/_libs/parsers.pyx\u001b[0m in \u001b[0;36mpandas._libs.parsers.TextReader._read_rows\u001b[0;34m()\u001b[0m\n",
            "\u001b[0;32mpandas/_libs/parsers.pyx\u001b[0m in \u001b[0;36mpandas._libs.parsers.TextReader._tokenize_rows\u001b[0;34m()\u001b[0m\n",
            "\u001b[0;32mpandas/_libs/parsers.pyx\u001b[0m in \u001b[0;36mpandas._libs.parsers.raise_parser_error\u001b[0;34m()\u001b[0m\n",
            "\u001b[0;31mParserError\u001b[0m: Error tokenizing data. C error: Expected 31 fields in line 3974, saw 40\n"
          ]
        }
      ]
    },
    {
      "cell_type": "code",
      "metadata": {
        "id": "e5dbbeae"
      },
      "source": [
        "data.head()"
      ],
      "id": "e5dbbeae",
      "execution_count": null,
      "outputs": []
    },
    {
      "cell_type": "code",
      "metadata": {
        "id": "9c631267"
      },
      "source": [
        "data.shape"
      ],
      "id": "9c631267",
      "execution_count": null,
      "outputs": []
    },
    {
      "cell_type": "code",
      "metadata": {
        "id": "c48e4f2f"
      },
      "source": [
        "data.isna().sum()"
      ],
      "id": "c48e4f2f",
      "execution_count": null,
      "outputs": []
    },
    {
      "cell_type": "code",
      "metadata": {
        "id": "8a83129b"
      },
      "source": [
        "x=data.drop_duplicates(inplace=True)\n"
      ],
      "id": "8a83129b",
      "execution_count": null,
      "outputs": []
    },
    {
      "cell_type": "code",
      "metadata": {
        "id": "29a80403"
      },
      "source": [
        "data.describe()"
      ],
      "id": "29a80403",
      "execution_count": null,
      "outputs": []
    },
    {
      "cell_type": "code",
      "metadata": {
        "id": "3483c655"
      },
      "source": [
        "data['Class'].value_counts()"
      ],
      "id": "3483c655",
      "execution_count": null,
      "outputs": []
    },
    {
      "cell_type": "markdown",
      "metadata": {
        "id": "b8e958c9"
      },
      "source": [
        "**0= \"No Fraud Cases\"**\n",
        "\n"
      ],
      "id": "b8e958c9"
    },
    {
      "cell_type": "markdown",
      "metadata": {
        "id": "975bc985"
      },
      "source": [
        "**1 = \" Fraud Cases\"**"
      ],
      "id": "975bc985"
    },
    {
      "cell_type": "markdown",
      "metadata": {
        "id": "416f2ca0"
      },
      "source": [
        "# Data States 'No Fraud Cases' =283253 And 'Fraud Cases' = 473 . Hence the class Data is unbalanced so here  data balancing is necessary !"
      ],
      "id": "416f2ca0"
    },
    {
      "cell_type": "code",
      "metadata": {
        "id": "acc9fb71"
      },
      "source": [
        "len(data.Class)"
      ],
      "id": "acc9fb71",
      "execution_count": null,
      "outputs": []
    },
    {
      "cell_type": "markdown",
      "metadata": {
        "id": "d3b24fa1"
      },
      "source": [
        "# 4.Exploratory Data Analysis"
      ],
      "id": "d3b24fa1"
    },
    {
      "cell_type": "code",
      "metadata": {
        "id": "bcc4dbe4"
      },
      "source": [
        "#histplot"
      ],
      "id": "bcc4dbe4",
      "execution_count": null,
      "outputs": []
    },
    {
      "cell_type": "code",
      "metadata": {
        "id": "f239721b"
      },
      "source": [
        "sns.boxplot(x='Class',y='Time',data=data)\n",
        "plt.title('BoxPlot for Class')\n",
        "plt.show()"
      ],
      "id": "f239721b",
      "execution_count": null,
      "outputs": []
    },
    {
      "cell_type": "markdown",
      "metadata": {
        "id": "f779368b"
      },
      "source": [
        "**Fraud and Non Fraud Cases took place at almost same timimg so Time feature is not an important feature for classification**"
      ],
      "id": "f779368b"
    },
    {
      "cell_type": "code",
      "metadata": {
        "id": "aa08a26c"
      },
      "source": [
        "sns.boxplot(x='Class',y='V1',data=data)\n",
        "plt.title('BoxPlot for Class')\n",
        "plt.show()"
      ],
      "id": "aa08a26c",
      "execution_count": null,
      "outputs": []
    },
    {
      "cell_type": "code",
      "metadata": {
        "id": "6a22f7b0"
      },
      "source": [
        "sns.boxplot(x='Class',y='V10',data=data)\n",
        "plt.title('BoxPlot for Class')\n",
        "plt.show()"
      ],
      "id": "6a22f7b0",
      "execution_count": null,
      "outputs": []
    },
    {
      "cell_type": "code",
      "metadata": {
        "id": "4befa137"
      },
      "source": [
        "plt.figure(figsize=(11,6))\n",
        "sns.barplot(x='V5',y='V4',data=data[170:175])\n",
        "plt.title('V4 VS V5',fontsize=20)\n",
        "plt.xlabel(' V5')\n",
        "plt.ylabel('V4')\n",
        "plt.show()"
      ],
      "id": "4befa137",
      "execution_count": null,
      "outputs": []
    },
    {
      "cell_type": "markdown",
      "metadata": {
        "id": "b81f27e8"
      },
      "source": [
        "**From above graph we can commit that both feature V4 and V5 don't have positive as well as negative correlation.**"
      ],
      "id": "b81f27e8"
    },
    {
      "cell_type": "code",
      "metadata": {
        "id": "23170122"
      },
      "source": [
        "sns.scatterplot(x='V1',y='V2',data=data,hue='Class')\n",
        "plt.title('scatter')\n",
        "plt.show()\n"
      ],
      "id": "23170122",
      "execution_count": null,
      "outputs": []
    },
    {
      "cell_type": "markdown",
      "metadata": {
        "id": "9e793789"
      },
      "source": [
        "**1. a=int(input('V2'))**\n",
        "\n",
        " **b=int(input('V1'))**\n",
        "\n",
        "  **if V2>=0 and V1<0:**\n",
        "\n",
        "  **print('Chances of Fraud Cases')**\n",
        "    "
      ],
      "id": "9e793789"
    },
    {
      "cell_type": "markdown",
      "metadata": {
        "id": "1ca9216b"
      },
      "source": [
        "**2. a=int(input('V2'))**\n",
        "\n",
        " **b=int(input('V1'))**\n",
        "\n",
        "  **if V2<0 and V1<0:**\n",
        "\n",
        "  **print('No Fraud Cases')**\n",
        "    "
      ],
      "id": "1ca9216b"
    },
    {
      "cell_type": "code",
      "metadata": {
        "id": "6f5462ce"
      },
      "source": [
        "sns.scatterplot(x='V3',y='V4',data=data,hue='Class')\n",
        "plt.title('Scatter')\n",
        "plt.show()"
      ],
      "id": "6f5462ce",
      "execution_count": null,
      "outputs": []
    },
    {
      "cell_type": "markdown",
      "metadata": {
        "id": "1d349f35"
      },
      "source": [
        "**1. a=int(input('V4'))**\n",
        "\n",
        "   **b=int(input('V3'))**\n",
        "\n",
        "   **if V4>=1 and V3< -5:**\n",
        "\n",
        "   **print('Chances of Fraud Cases')**\n",
        "    "
      ],
      "id": "1d349f35"
    },
    {
      "cell_type": "markdown",
      "metadata": {
        "id": "1533a01f"
      },
      "source": [
        "**2. a=int(input('V4'))**\n",
        "\n",
        "**b=int(input('V3'))**\n",
        "\n",
        "**if V4<3 and V3<4:**\n",
        "\n",
        "**print('No Fraud Cases')**"
      ],
      "id": "1533a01f"
    },
    {
      "cell_type": "code",
      "metadata": {
        "id": "d9a79e9e"
      },
      "source": [
        "data.corr()"
      ],
      "id": "d9a79e9e",
      "execution_count": null,
      "outputs": []
    },
    {
      "cell_type": "code",
      "metadata": {
        "id": "205e84d4"
      },
      "source": [
        "visual=plt.figure(figsize=(12,9))\n",
        "sns.heatmap(data.corr(),vmax=1,square=True)\n",
        "plt.show()"
      ],
      "id": "205e84d4",
      "execution_count": null,
      "outputs": []
    },
    {
      "cell_type": "markdown",
      "metadata": {
        "id": "d4ac778e"
      },
      "source": [
        "Lighter shades indicates positive correlation. \\\n",
        "Dark Shades indicates negative correlation."
      ],
      "id": "d4ac778e"
    },
    {
      "cell_type": "markdown",
      "metadata": {
        "id": "983cb9bb"
      },
      "source": [
        "# 05. Model Training."
      ],
      "id": "983cb9bb"
    },
    {
      "cell_type": "markdown",
      "metadata": {
        "id": "144c806a"
      },
      "source": [
        " **Training and Testing Data**\n"
      ],
      "id": "144c806a"
    },
    {
      "cell_type": "code",
      "metadata": {
        "id": "86644467"
      },
      "source": [
        "# Getting Features\n",
        "X=data.drop(columns='Class')\n",
        "Y=data['Class']"
      ],
      "id": "86644467",
      "execution_count": null,
      "outputs": []
    },
    {
      "cell_type": "code",
      "metadata": {
        "id": "a7d63675"
      },
      "source": [
        "#importing libraries\n",
        "from sklearn.model_selection import train_test_split\n",
        "from imblearn.under_sampling import RandomUnderSampler\n",
        "\n",
        "RS=RandomUnderSampler()\n",
        "x_us,y_us=RS.fit_resample(X , Y)\n",
        "x_train,x_test,y_train,y_test=train_test_split(x_us,y_us,test_size=0.3)"
      ],
      "id": "a7d63675",
      "execution_count": null,
      "outputs": []
    },
    {
      "cell_type": "code",
      "metadata": {
        "id": "e8ca66fb"
      },
      "source": [
        "len(x_train)"
      ],
      "id": "e8ca66fb",
      "execution_count": null,
      "outputs": []
    },
    {
      "cell_type": "code",
      "metadata": {
        "id": "9d995132"
      },
      "source": [
        "len(y_train)"
      ],
      "id": "9d995132",
      "execution_count": null,
      "outputs": []
    },
    {
      "cell_type": "code",
      "metadata": {
        "id": "166ad3ea"
      },
      "source": [
        "len(x_test)"
      ],
      "id": "166ad3ea",
      "execution_count": null,
      "outputs": []
    },
    {
      "cell_type": "code",
      "metadata": {
        "id": "4b7cb63d"
      },
      "source": [
        "len(y_test)"
      ],
      "id": "4b7cb63d",
      "execution_count": null,
      "outputs": []
    },
    {
      "cell_type": "code",
      "metadata": {
        "id": "dffa2019"
      },
      "source": [
        "# Standard scaler"
      ],
      "id": "dffa2019",
      "execution_count": null,
      "outputs": []
    },
    {
      "cell_type": "code",
      "metadata": {
        "id": "e230cf1c"
      },
      "source": [
        "from sklearn.preprocessing import StandardScaler\n",
        "std=StandardScaler()\n",
        "std.fit_transform(x_train)\n",
        "std.fit(x_test)"
      ],
      "id": "e230cf1c",
      "execution_count": null,
      "outputs": []
    },
    {
      "cell_type": "markdown",
      "metadata": {
        "id": "9a6d3ca9"
      },
      "source": [
        "**01.DECISION TREE**"
      ],
      "id": "9a6d3ca9"
    },
    {
      "cell_type": "code",
      "metadata": {
        "id": "23f9ccb3"
      },
      "source": [
        "## Decision tree\n",
        "from sklearn.tree import DecisionTreeClassifier\n",
        "from sklearn.model_selection import RandomizedSearchCV\n",
        "from sklearn.metrics import confusion_matrix,classification_report,accuracy_score\n",
        "\n",
        "dt=DecisionTreeClassifier()\n",
        "\n",
        "parameter={'criterion':['gini'],\n",
        "            'splitter': ['best','random'],\n",
        "           'max_depth':[2,10,20,25,40,None],\n",
        "           'min_samples_split':[2,4,5,10,12],\n",
        "           'min_samples_leaf':[1,2,3,6]}\n",
        "            \n",
        "rv=RandomizedSearchCV(dt,parameter)\n",
        "rv.fit(x_train,y_train)"
      ],
      "id": "23f9ccb3",
      "execution_count": null,
      "outputs": []
    },
    {
      "cell_type": "code",
      "metadata": {
        "id": "0f48cc6d"
      },
      "source": [
        "rv.best_params_"
      ],
      "id": "0f48cc6d",
      "execution_count": null,
      "outputs": []
    },
    {
      "cell_type": "code",
      "metadata": {
        "id": "1f1c831a"
      },
      "source": [
        "rv.best_score_"
      ],
      "id": "1f1c831a",
      "execution_count": null,
      "outputs": []
    },
    {
      "cell_type": "code",
      "metadata": {
        "id": "3a2921e4"
      },
      "source": [
        "dt= DecisionTreeClassifier(splitter= 'random',\n",
        " min_samples_split= 10,\n",
        " min_samples_leaf= 2,\n",
        " max_depth= 40,\n",
        " criterion= 'gini'\n",
        ")\n",
        "dt.fit(x_train,y_train)"
      ],
      "id": "3a2921e4",
      "execution_count": null,
      "outputs": []
    },
    {
      "cell_type": "code",
      "metadata": {
        "id": "21f2a3c7"
      },
      "source": [
        "y_pred=dt.predict(x_test)"
      ],
      "id": "21f2a3c7",
      "execution_count": null,
      "outputs": []
    },
    {
      "cell_type": "code",
      "metadata": {
        "id": "34b5cf8b"
      },
      "source": [
        "#calculation of accuracy score\n",
        "print('Train Data Score',accuracy_score(y_train,dt.predict(x_train))*100)\n",
        "print('Test Data Score',accuracy_score(y_test,dt.predict(x_test))*100)"
      ],
      "id": "34b5cf8b",
      "execution_count": null,
      "outputs": []
    },
    {
      "cell_type": "code",
      "metadata": {
        "id": "18b5e63d"
      },
      "source": [
        "print(confusion_matrix(y_test,y_pred))"
      ],
      "id": "18b5e63d",
      "execution_count": null,
      "outputs": []
    },
    {
      "cell_type": "code",
      "metadata": {
        "id": "63629d34"
      },
      "source": [
        "print(classification_report(y_test,y_pred))"
      ],
      "id": "63629d34",
      "execution_count": null,
      "outputs": []
    },
    {
      "cell_type": "markdown",
      "metadata": {
        "id": "e8f0dc6b"
      },
      "source": [
        "**Test Accuracy obtained from DECISION TREE is 92.95%**"
      ],
      "id": "e8f0dc6b"
    },
    {
      "cell_type": "markdown",
      "metadata": {
        "id": "4319204d"
      },
      "source": [
        "**02.LOGISTIC REGRESSION**\n"
      ],
      "id": "4319204d"
    },
    {
      "cell_type": "code",
      "metadata": {
        "id": "640344f4"
      },
      "source": [
        "%%time\n",
        "from sklearn.linear_model import LogisticRegression\n",
        "from sklearn.model_selection import RandomizedSearchCV\n",
        "\n",
        "log_reg=LogisticRegression()\n",
        "\n",
        "parametre={\n",
        "    'penalty':['l2'],\n",
        "    'C':[1.0,2.0,3.0],\n",
        "    'random_state':[None],\n",
        "    'solver':['lbfgs'],\n",
        "    'max_iter':[100,400,600,1000]\n",
        "}\n",
        "\n",
        "rv=RandomizedSearchCV(log_reg,parametre)\n",
        "rv.fit(x_train,y_train)\n"
      ],
      "id": "640344f4",
      "execution_count": null,
      "outputs": []
    },
    {
      "cell_type": "code",
      "metadata": {
        "id": "b6a74fdb"
      },
      "source": [
        "rv.best_params_"
      ],
      "id": "b6a74fdb",
      "execution_count": null,
      "outputs": []
    },
    {
      "cell_type": "code",
      "metadata": {
        "id": "50661811"
      },
      "source": [
        "rv.best_score_"
      ],
      "id": "50661811",
      "execution_count": null,
      "outputs": []
    },
    {
      "cell_type": "code",
      "metadata": {
        "id": "209c6161"
      },
      "source": [
        "log_reg=LogisticRegression(solver= 'lbfgs',\n",
        " random_state= None,\n",
        " penalty= 'l2',\n",
        " max_iter= 600,\n",
        " C= 1.0)\n",
        "log_reg.fit(x_train,y_train)"
      ],
      "id": "209c6161",
      "execution_count": null,
      "outputs": []
    },
    {
      "cell_type": "code",
      "metadata": {
        "id": "16bc6148"
      },
      "source": [
        "y_pred=log_reg.predict(x_test)"
      ],
      "id": "16bc6148",
      "execution_count": null,
      "outputs": []
    },
    {
      "cell_type": "code",
      "metadata": {
        "id": "26facec5"
      },
      "source": [
        "print('Train_Score',accuracy_score(y_train,log_reg.predict(x_train))*100)\n",
        "print('Test_Score',accuracy_score(y_test,log_reg.predict(x_test))*100)"
      ],
      "id": "26facec5",
      "execution_count": null,
      "outputs": []
    },
    {
      "cell_type": "code",
      "metadata": {
        "id": "e3574089"
      },
      "source": [
        "print(confusion_matrix(y_test,y_pred))"
      ],
      "id": "e3574089",
      "execution_count": null,
      "outputs": []
    },
    {
      "cell_type": "code",
      "metadata": {
        "id": "87c12408"
      },
      "source": [
        "print(classification_report(y_test,y_pred))"
      ],
      "id": "87c12408",
      "execution_count": null,
      "outputs": []
    },
    {
      "cell_type": "markdown",
      "metadata": {
        "id": "ac00e3f3"
      },
      "source": [
        "**Test Accuracy obtained from LOGISTIC REGRESSION is 92.60%**"
      ],
      "id": "ac00e3f3"
    },
    {
      "cell_type": "markdown",
      "metadata": {
        "id": "ed19ef6b"
      },
      "source": [
        "**03.RANDOM FOREST CLASSIFIER**"
      ],
      "id": "ed19ef6b"
    },
    {
      "cell_type": "code",
      "metadata": {
        "id": "091f7091"
      },
      "source": [
        "%%time\n",
        "from sklearn.ensemble import RandomForestClassifier\n",
        "\n",
        "\n",
        "random_class=RandomForestClassifier()\n",
        "\n",
        "para_meter={'n_estimators':[100,200,300,500],\n",
        "            'criterion':['gini'],\n",
        "            'max_depth':[3,5,10,20,None],\n",
        "            'min_samples_split':[2,5,10,12],\n",
        "            'min_samples_leaf':[1,2,3,4]\n",
        "    \n",
        "}\n",
        "\n",
        "rsv=RandomizedSearchCV(random_class,para_meter,n_jobs=-1)\n",
        "rsv.fit(x_train,y_train)\n"
      ],
      "id": "091f7091",
      "execution_count": null,
      "outputs": []
    },
    {
      "cell_type": "code",
      "metadata": {
        "id": "0da18d52"
      },
      "source": [
        "rsv.best_params_"
      ],
      "id": "0da18d52",
      "execution_count": null,
      "outputs": []
    },
    {
      "cell_type": "code",
      "metadata": {
        "id": "b03d86e7"
      },
      "source": [
        "rsv.best_score_"
      ],
      "id": "b03d86e7",
      "execution_count": null,
      "outputs": []
    },
    {
      "cell_type": "code",
      "metadata": {
        "id": "f69ad724"
      },
      "source": [
        "random_class=RandomForestClassifier(n_estimators= 500,\n",
        " min_samples_split=10,\n",
        " min_samples_leaf=2,\n",
        " max_depth= 20,\n",
        " criterion= 'gini')\n",
        "random_class.fit(x_train,y_train)"
      ],
      "id": "f69ad724",
      "execution_count": null,
      "outputs": []
    },
    {
      "cell_type": "code",
      "metadata": {
        "id": "7c2a0da3"
      },
      "source": [
        "y_pred=random_class.predict(x_test)"
      ],
      "id": "7c2a0da3",
      "execution_count": null,
      "outputs": []
    },
    {
      "cell_type": "code",
      "metadata": {
        "id": "ea23df53"
      },
      "source": [
        "#calculation of accuracy score\n",
        "print('Train Data Score',accuracy_score(y_train,random_class.predict(x_train))*100)\n",
        "print('Test Data Score',accuracy_score(y_test,random_class.predict(x_test))*100)"
      ],
      "id": "ea23df53",
      "execution_count": null,
      "outputs": []
    },
    {
      "cell_type": "code",
      "metadata": {
        "id": "e7955200"
      },
      "source": [
        "print(confusion_matrix(y_test,y_pred))"
      ],
      "id": "e7955200",
      "execution_count": null,
      "outputs": []
    },
    {
      "cell_type": "code",
      "metadata": {
        "id": "44718106"
      },
      "source": [
        "print(classification_report(y_test,y_pred))"
      ],
      "id": "44718106",
      "execution_count": null,
      "outputs": []
    },
    {
      "cell_type": "markdown",
      "metadata": {
        "id": "95f36ebe"
      },
      "source": [
        "**Test Accuracy obtained from RANDOM FOREST CLASSIFIER is 94.36%**"
      ],
      "id": "95f36ebe"
    },
    {
      "cell_type": "markdown",
      "metadata": {
        "id": "749f805b"
      },
      "source": [
        "**04. KNN Classifier**"
      ],
      "id": "749f805b"
    },
    {
      "cell_type": "code",
      "metadata": {
        "id": "553e2590"
      },
      "source": [
        "%%time\n",
        "from sklearn.neighbors import KNeighborsClassifier\n",
        "from sklearn.model_selection import GridSearchCV\n",
        "KNN=KNeighborsClassifier()\n",
        "para_meter={'n_neighbors':[3,5,7,10,50,100],\n",
        "            'weights':[ 'distance'],\n",
        "            'algorithm':['auto']\n",
        "            \n",
        "}\n",
        "\n",
        "rsv=GridSearchCV(KNN,para_meter)\n",
        "rsv.fit(x_train,y_train)"
      ],
      "id": "553e2590",
      "execution_count": null,
      "outputs": []
    },
    {
      "cell_type": "code",
      "metadata": {
        "id": "57605b33"
      },
      "source": [
        "rsv.best_params_"
      ],
      "id": "57605b33",
      "execution_count": null,
      "outputs": []
    },
    {
      "cell_type": "code",
      "metadata": {
        "id": "6ed67d36"
      },
      "source": [
        "rsv.best_score_"
      ],
      "id": "6ed67d36",
      "execution_count": null,
      "outputs": []
    },
    {
      "cell_type": "code",
      "metadata": {
        "id": "5acf0217"
      },
      "source": [
        "%%time\n",
        "KNN=KNeighborsClassifier(weights ='distance',\n",
        " n_neighbors= 10,\n",
        " algorithm= 'auto')\n",
        "KNN.fit(x_train,y_train)"
      ],
      "id": "5acf0217",
      "execution_count": null,
      "outputs": []
    },
    {
      "cell_type": "code",
      "metadata": {
        "id": "4f1fe7de"
      },
      "source": [
        "#model prediction\n",
        "y_pred = KNN.predict(x_test)"
      ],
      "id": "4f1fe7de",
      "execution_count": null,
      "outputs": []
    },
    {
      "cell_type": "code",
      "metadata": {
        "id": "0d857a36"
      },
      "source": [
        "# Accuracy score of train and test data\n",
        "print(\"Train Data\",KNN.score(x_train,y_train)*100)\n",
        "print(\"Test Data\",KNN.score(x_test,y_test)*100)"
      ],
      "id": "0d857a36",
      "execution_count": null,
      "outputs": []
    },
    {
      "cell_type": "code",
      "metadata": {
        "id": "7587b7ae"
      },
      "source": [
        "# Confusion matrix\n",
        "print(confusion_matrix(y_test,y_pred))"
      ],
      "id": "7587b7ae",
      "execution_count": null,
      "outputs": []
    },
    {
      "cell_type": "code",
      "metadata": {
        "id": "7dbf3854"
      },
      "source": [
        "#Classification Report\n",
        "print(classification_report(y_test,y_pred))"
      ],
      "id": "7dbf3854",
      "execution_count": null,
      "outputs": []
    },
    {
      "cell_type": "markdown",
      "metadata": {
        "id": "6b39a582"
      },
      "source": [
        "**Test Accuracy obtained from KNN Classifier is 65.49%**"
      ],
      "id": "6b39a582"
    },
    {
      "cell_type": "markdown",
      "metadata": {
        "id": "ed627992"
      },
      "source": [
        "# 06.Conclusion"
      ],
      "id": "ed627992"
    },
    {
      "cell_type": "markdown",
      "metadata": {
        "id": "18f7f7d6"
      },
      "source": [
        "**Test Accuracy obtained from DECISION TREE is 92.95%**\n",
        "\n",
        "**Test Accuracy obtained from LOGISTIC REGRESSION is 92.60%**\n",
        "\n",
        "**Test Accuracy obtained from RANDOM FOREST CLASSIFIER is 94.36%**\n",
        "\n",
        "**Test Accuracy obtained from KNN Classifier is 65.49%**"
      ],
      "id": "18f7f7d6"
    },
    {
      "cell_type": "code",
      "metadata": {
        "id": "7c50b404"
      },
      "source": [
        ""
      ],
      "id": "7c50b404",
      "execution_count": null,
      "outputs": []
    }
  ]
}