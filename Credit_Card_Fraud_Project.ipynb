{
  "nbformat": 4,
  "nbformat_minor": 5,
  "metadata": {
    "colab": {
      "name": "Credit Card Fraud.Project.ipynb",
      "provenance": [],
      "collapsed_sections": [
        "6cc38fbf",
        "bee83d7a",
        "529b3717",
        "8b66b078",
        "420e4a23",
        "9b8cca45",
        "416f2ca0",
        "d3b24fa1",
        "983cb9bb",
        "ed627992"
      ],
      "include_colab_link": true
    },
    "kernelspec": {
      "display_name": "Python 3",
      "language": "python",
      "name": "python3"
    },
    "language_info": {
      "codemirror_mode": {
        "name": "ipython",
        "version": 3
      },
      "file_extension": ".py",
      "mimetype": "text/x-python",
      "name": "python",
      "nbconvert_exporter": "python",
      "pygments_lexer": "ipython3",
      "version": "3.8.8"
    }
  },
  "cells": [
    {
      "cell_type": "markdown",
      "metadata": {
        "id": "view-in-github",
        "colab_type": "text"
      },
      "source": [
        "<a href=\"https://colab.research.google.com/github/AniketRao/Credit-Card-Fraud-Detection/blob/main/Credit_Card_Fraud_Project.ipynb\" target=\"_parent\"><img src=\"https://colab.research.google.com/assets/colab-badge.svg\" alt=\"Open In Colab\"/></a>"
      ]
    },
    {
      "cell_type": "markdown",
      "metadata": {
        "id": "6cc38fbf"
      },
      "source": [
        " # CREDIT CARD FRAUD DETECTION\n",
        " "
      ],
      "id": "6cc38fbf"
    },
    {
      "cell_type": "markdown",
      "metadata": {
        "id": "bee83d7a"
      },
      "source": [
        "#  01.Business Problem."
      ],
      "id": "bee83d7a"
    },
    {
      "cell_type": "markdown",
      "metadata": {
        "id": "9ca6c999"
      },
      "source": [
        "**1.1 Description**"
      ],
      "id": "9ca6c999"
    },
    {
      "cell_type": "markdown",
      "metadata": {
        "id": "a7e351b0"
      },
      "source": [
        "Source: https://www.kaggle.com/mlg-ulb/creditcardfraud\n",
        "\n",
        "Data: The dataset has been collected and analysed during a research collaboration of Worldline and the Machine Learning Group (http://mlg.ulb.ac.be) of ULB (Université Libre de Bruxelles) on big data mining and fraud detection.\n",
        "\n",
        "Download creditcard.csv from Kaggle."
      ],
      "id": "a7e351b0"
    },
    {
      "cell_type": "markdown",
      "metadata": {
        "id": "5ce49e9b"
      },
      "source": [
        "**Context:**"
      ],
      "id": "5ce49e9b"
    },
    {
      "cell_type": "markdown",
      "metadata": {
        "id": "053bef0a"
      },
      "source": [
        "It is important that credit card companies are able to recognize fraudulent credit card transactions so that customers are not charged for items that they did not purchase.\n",
        "\n",
        "The dataset contains transactions made by credit cards in September 2013 by european cardholders.\n",
        "\n",
        "This dataset presents transactions that occurred in two days"
      ],
      "id": "053bef0a"
    },
    {
      "cell_type": "markdown",
      "metadata": {
        "id": "ca4077f7"
      },
      "source": [
        "**Problem statement :**"
      ],
      "id": "ca4077f7"
    },
    {
      "cell_type": "markdown",
      "metadata": {
        "id": "99a15025"
      },
      "source": [
        "Classify fraudulent and non-fraudulent credit card transactions."
      ],
      "id": "99a15025"
    },
    {
      "cell_type": "markdown",
      "metadata": {
        "id": "529b3717"
      },
      "source": [
        " # 1.2. Real-world/Business objectives and constraints."
      ],
      "id": "529b3717"
    },
    {
      "cell_type": "markdown",
      "metadata": {
        "id": "61903601"
      },
      "source": [
        "No low-latency requirement.\n",
        "\n",
        "Interpretability is important.\n",
        "\n",
        "Errors can be very costly."
      ],
      "id": "61903601"
    },
    {
      "cell_type": "markdown",
      "metadata": {
        "id": "8b66b078"
      },
      "source": [
        "# 02. Machine Learning Problem Formulation."
      ],
      "id": "8b66b078"
    },
    {
      "cell_type": "markdown",
      "metadata": {
        "id": "420e4a23"
      },
      "source": [
        "# 2.1. Data"
      ],
      "id": "420e4a23"
    },
    {
      "cell_type": "markdown",
      "metadata": {
        "id": "ec7bfeb0"
      },
      "source": [
        "**2.1.1. Data Overview**"
      ],
      "id": "ec7bfeb0"
    },
    {
      "cell_type": "markdown",
      "metadata": {
        "id": "ff81c08c"
      },
      "source": [
        "Source: https://www.kaggle.com/mlg-ulb/creditcardfraud  \n",
        "\n",
        "We have one data files that contains information about the Credit card transactions\n",
        "\n",
        "Data file's information: \n",
        "\n",
        "Creditcard.csv (V1, V2,....,V28, Time, Amount,Class)\n",
        "\n",
        "It contains only numerical input variables"
      ],
      "id": "ff81c08c"
    },
    {
      "cell_type": "markdown",
      "metadata": {
        "id": "b506f857"
      },
      "source": [
        "**2.2. Mapping the real-world problem to an ML problem**"
      ],
      "id": "b506f857"
    },
    {
      "cell_type": "markdown",
      "metadata": {
        "id": "5a5410a9"
      },
      "source": [
        "**2.2.1. Type of Machine Learning Problem**"
      ],
      "id": "5a5410a9"
    },
    {
      "cell_type": "markdown",
      "metadata": {
        "id": "624a8368"
      },
      "source": [
        "There are two different classes a credit card transaction can be classified into => classification problem"
      ],
      "id": "624a8368"
    },
    {
      "cell_type": "markdown",
      "metadata": {
        "id": "028323da"
      },
      "source": [
        "**2.2.2. Performance Metric**"
      ],
      "id": "028323da"
    },
    {
      "cell_type": "markdown",
      "metadata": {
        "id": "a8ad7b23"
      },
      "source": [
        "Source: https://www.kaggle.com/mlg-ulb/creditcardfraud \\\n",
        "\n",
        "Metric(s):\n",
        "\n",
        "f1-score\n",
        "\n",
        "Confusion matrix"
      ],
      "id": "a8ad7b23"
    },
    {
      "cell_type": "markdown",
      "metadata": {
        "id": "38511c46"
      },
      "source": [
        "**2.2.3. Machine Learing Objectives and Constraints**"
      ],
      "id": "38511c46"
    },
    {
      "cell_type": "markdown",
      "metadata": {
        "id": "0faf8f01"
      },
      "source": [
        "Objective: Predict which of the two classes the datapoints belong to. \n",
        "\n",
        "Constraints: \n",
        "\n",
        "Interpretability \n",
        "\n",
        "No Latency constraints."
      ],
      "id": "0faf8f01"
    },
    {
      "cell_type": "markdown",
      "metadata": {
        "id": "9b8cca45"
      },
      "source": [
        "# 03.Data Preprocessing."
      ],
      "id": "9b8cca45"
    },
    {
      "cell_type": "code",
      "metadata": {
        "id": "e7fd7b33"
      },
      "source": [
        "import pandas as pd\n",
        "import numpy as np\n",
        "import matplotlib.pyplot as plt\n",
        "import seaborn as sns"
      ],
      "id": "e7fd7b33",
      "execution_count": 109,
      "outputs": []
    },
    {
      "cell_type": "code",
      "metadata": {
        "id": "f43091be"
      },
      "source": [
        "# Loading dataset"
      ],
      "id": "f43091be",
      "execution_count": 110,
      "outputs": []
    },
    {
      "cell_type": "code",
      "metadata": {
        "id": "3b8edd74",
        "colab": {
          "base_uri": "https://localhost:8080/",
          "height": 439
        },
        "outputId": "255df1a0-eeaf-4b49-9018-7334681233ac"
      },
      "source": [
        "data=pd.read_csv('/content/creditcard.csv')\n",
        "data"
      ],
      "id": "3b8edd74",
      "execution_count": 111,
      "outputs": [
        {
          "output_type": "execute_result",
          "data": {
            "text/html": [
              "<div>\n",
              "<style scoped>\n",
              "    .dataframe tbody tr th:only-of-type {\n",
              "        vertical-align: middle;\n",
              "    }\n",
              "\n",
              "    .dataframe tbody tr th {\n",
              "        vertical-align: top;\n",
              "    }\n",
              "\n",
              "    .dataframe thead th {\n",
              "        text-align: right;\n",
              "    }\n",
              "</style>\n",
              "<table border=\"1\" class=\"dataframe\">\n",
              "  <thead>\n",
              "    <tr style=\"text-align: right;\">\n",
              "      <th></th>\n",
              "      <th>Time</th>\n",
              "      <th>V1</th>\n",
              "      <th>V2</th>\n",
              "      <th>V3</th>\n",
              "      <th>V4</th>\n",
              "      <th>V5</th>\n",
              "      <th>V6</th>\n",
              "      <th>V7</th>\n",
              "      <th>V8</th>\n",
              "      <th>V9</th>\n",
              "      <th>V10</th>\n",
              "      <th>V11</th>\n",
              "      <th>V12</th>\n",
              "      <th>V13</th>\n",
              "      <th>V14</th>\n",
              "      <th>V15</th>\n",
              "      <th>V16</th>\n",
              "      <th>V17</th>\n",
              "      <th>V18</th>\n",
              "      <th>V19</th>\n",
              "      <th>V20</th>\n",
              "      <th>V21</th>\n",
              "      <th>V22</th>\n",
              "      <th>V23</th>\n",
              "      <th>V24</th>\n",
              "      <th>V25</th>\n",
              "      <th>V26</th>\n",
              "      <th>V27</th>\n",
              "      <th>V28</th>\n",
              "      <th>Amount</th>\n",
              "      <th>Class</th>\n",
              "    </tr>\n",
              "  </thead>\n",
              "  <tbody>\n",
              "    <tr>\n",
              "      <th>0</th>\n",
              "      <td>0.0</td>\n",
              "      <td>-1.359807</td>\n",
              "      <td>-0.072781</td>\n",
              "      <td>2.536347</td>\n",
              "      <td>1.378155</td>\n",
              "      <td>-0.338321</td>\n",
              "      <td>0.462388</td>\n",
              "      <td>0.239599</td>\n",
              "      <td>0.098698</td>\n",
              "      <td>0.363787</td>\n",
              "      <td>0.090794</td>\n",
              "      <td>-0.551600</td>\n",
              "      <td>-0.617801</td>\n",
              "      <td>-0.991390</td>\n",
              "      <td>-0.311169</td>\n",
              "      <td>1.468177</td>\n",
              "      <td>-0.470401</td>\n",
              "      <td>0.207971</td>\n",
              "      <td>0.025791</td>\n",
              "      <td>0.403993</td>\n",
              "      <td>0.251412</td>\n",
              "      <td>-0.018307</td>\n",
              "      <td>0.277838</td>\n",
              "      <td>-0.110474</td>\n",
              "      <td>0.066928</td>\n",
              "      <td>0.128539</td>\n",
              "      <td>-0.189115</td>\n",
              "      <td>0.133558</td>\n",
              "      <td>-0.021053</td>\n",
              "      <td>149.62</td>\n",
              "      <td>0</td>\n",
              "    </tr>\n",
              "    <tr>\n",
              "      <th>1</th>\n",
              "      <td>0.0</td>\n",
              "      <td>1.191857</td>\n",
              "      <td>0.266151</td>\n",
              "      <td>0.166480</td>\n",
              "      <td>0.448154</td>\n",
              "      <td>0.060018</td>\n",
              "      <td>-0.082361</td>\n",
              "      <td>-0.078803</td>\n",
              "      <td>0.085102</td>\n",
              "      <td>-0.255425</td>\n",
              "      <td>-0.166974</td>\n",
              "      <td>1.612727</td>\n",
              "      <td>1.065235</td>\n",
              "      <td>0.489095</td>\n",
              "      <td>-0.143772</td>\n",
              "      <td>0.635558</td>\n",
              "      <td>0.463917</td>\n",
              "      <td>-0.114805</td>\n",
              "      <td>-0.183361</td>\n",
              "      <td>-0.145783</td>\n",
              "      <td>-0.069083</td>\n",
              "      <td>-0.225775</td>\n",
              "      <td>-0.638672</td>\n",
              "      <td>0.101288</td>\n",
              "      <td>-0.339846</td>\n",
              "      <td>0.167170</td>\n",
              "      <td>0.125895</td>\n",
              "      <td>-0.008983</td>\n",
              "      <td>0.014724</td>\n",
              "      <td>2.69</td>\n",
              "      <td>0</td>\n",
              "    </tr>\n",
              "    <tr>\n",
              "      <th>2</th>\n",
              "      <td>1.0</td>\n",
              "      <td>-1.358354</td>\n",
              "      <td>-1.340163</td>\n",
              "      <td>1.773209</td>\n",
              "      <td>0.379780</td>\n",
              "      <td>-0.503198</td>\n",
              "      <td>1.800499</td>\n",
              "      <td>0.791461</td>\n",
              "      <td>0.247676</td>\n",
              "      <td>-1.514654</td>\n",
              "      <td>0.207643</td>\n",
              "      <td>0.624501</td>\n",
              "      <td>0.066084</td>\n",
              "      <td>0.717293</td>\n",
              "      <td>-0.165946</td>\n",
              "      <td>2.345865</td>\n",
              "      <td>-2.890083</td>\n",
              "      <td>1.109969</td>\n",
              "      <td>-0.121359</td>\n",
              "      <td>-2.261857</td>\n",
              "      <td>0.524980</td>\n",
              "      <td>0.247998</td>\n",
              "      <td>0.771679</td>\n",
              "      <td>0.909412</td>\n",
              "      <td>-0.689281</td>\n",
              "      <td>-0.327642</td>\n",
              "      <td>-0.139097</td>\n",
              "      <td>-0.055353</td>\n",
              "      <td>-0.059752</td>\n",
              "      <td>378.66</td>\n",
              "      <td>0</td>\n",
              "    </tr>\n",
              "    <tr>\n",
              "      <th>3</th>\n",
              "      <td>1.0</td>\n",
              "      <td>-0.966272</td>\n",
              "      <td>-0.185226</td>\n",
              "      <td>1.792993</td>\n",
              "      <td>-0.863291</td>\n",
              "      <td>-0.010309</td>\n",
              "      <td>1.247203</td>\n",
              "      <td>0.237609</td>\n",
              "      <td>0.377436</td>\n",
              "      <td>-1.387024</td>\n",
              "      <td>-0.054952</td>\n",
              "      <td>-0.226487</td>\n",
              "      <td>0.178228</td>\n",
              "      <td>0.507757</td>\n",
              "      <td>-0.287924</td>\n",
              "      <td>-0.631418</td>\n",
              "      <td>-1.059647</td>\n",
              "      <td>-0.684093</td>\n",
              "      <td>1.965775</td>\n",
              "      <td>-1.232622</td>\n",
              "      <td>-0.208038</td>\n",
              "      <td>-0.108300</td>\n",
              "      <td>0.005274</td>\n",
              "      <td>-0.190321</td>\n",
              "      <td>-1.175575</td>\n",
              "      <td>0.647376</td>\n",
              "      <td>-0.221929</td>\n",
              "      <td>0.062723</td>\n",
              "      <td>0.061458</td>\n",
              "      <td>123.50</td>\n",
              "      <td>0</td>\n",
              "    </tr>\n",
              "    <tr>\n",
              "      <th>4</th>\n",
              "      <td>2.0</td>\n",
              "      <td>-1.158233</td>\n",
              "      <td>0.877737</td>\n",
              "      <td>1.548718</td>\n",
              "      <td>0.403034</td>\n",
              "      <td>-0.407193</td>\n",
              "      <td>0.095921</td>\n",
              "      <td>0.592941</td>\n",
              "      <td>-0.270533</td>\n",
              "      <td>0.817739</td>\n",
              "      <td>0.753074</td>\n",
              "      <td>-0.822843</td>\n",
              "      <td>0.538196</td>\n",
              "      <td>1.345852</td>\n",
              "      <td>-1.119670</td>\n",
              "      <td>0.175121</td>\n",
              "      <td>-0.451449</td>\n",
              "      <td>-0.237033</td>\n",
              "      <td>-0.038195</td>\n",
              "      <td>0.803487</td>\n",
              "      <td>0.408542</td>\n",
              "      <td>-0.009431</td>\n",
              "      <td>0.798278</td>\n",
              "      <td>-0.137458</td>\n",
              "      <td>0.141267</td>\n",
              "      <td>-0.206010</td>\n",
              "      <td>0.502292</td>\n",
              "      <td>0.219422</td>\n",
              "      <td>0.215153</td>\n",
              "      <td>69.99</td>\n",
              "      <td>0</td>\n",
              "    </tr>\n",
              "    <tr>\n",
              "      <th>...</th>\n",
              "      <td>...</td>\n",
              "      <td>...</td>\n",
              "      <td>...</td>\n",
              "      <td>...</td>\n",
              "      <td>...</td>\n",
              "      <td>...</td>\n",
              "      <td>...</td>\n",
              "      <td>...</td>\n",
              "      <td>...</td>\n",
              "      <td>...</td>\n",
              "      <td>...</td>\n",
              "      <td>...</td>\n",
              "      <td>...</td>\n",
              "      <td>...</td>\n",
              "      <td>...</td>\n",
              "      <td>...</td>\n",
              "      <td>...</td>\n",
              "      <td>...</td>\n",
              "      <td>...</td>\n",
              "      <td>...</td>\n",
              "      <td>...</td>\n",
              "      <td>...</td>\n",
              "      <td>...</td>\n",
              "      <td>...</td>\n",
              "      <td>...</td>\n",
              "      <td>...</td>\n",
              "      <td>...</td>\n",
              "      <td>...</td>\n",
              "      <td>...</td>\n",
              "      <td>...</td>\n",
              "      <td>...</td>\n",
              "    </tr>\n",
              "    <tr>\n",
              "      <th>284802</th>\n",
              "      <td>172786.0</td>\n",
              "      <td>-11.881118</td>\n",
              "      <td>10.071785</td>\n",
              "      <td>-9.834783</td>\n",
              "      <td>-2.066656</td>\n",
              "      <td>-5.364473</td>\n",
              "      <td>-2.606837</td>\n",
              "      <td>-4.918215</td>\n",
              "      <td>7.305334</td>\n",
              "      <td>1.914428</td>\n",
              "      <td>4.356170</td>\n",
              "      <td>-1.593105</td>\n",
              "      <td>2.711941</td>\n",
              "      <td>-0.689256</td>\n",
              "      <td>4.626942</td>\n",
              "      <td>-0.924459</td>\n",
              "      <td>1.107641</td>\n",
              "      <td>1.991691</td>\n",
              "      <td>0.510632</td>\n",
              "      <td>-0.682920</td>\n",
              "      <td>1.475829</td>\n",
              "      <td>0.213454</td>\n",
              "      <td>0.111864</td>\n",
              "      <td>1.014480</td>\n",
              "      <td>-0.509348</td>\n",
              "      <td>1.436807</td>\n",
              "      <td>0.250034</td>\n",
              "      <td>0.943651</td>\n",
              "      <td>0.823731</td>\n",
              "      <td>0.77</td>\n",
              "      <td>0</td>\n",
              "    </tr>\n",
              "    <tr>\n",
              "      <th>284803</th>\n",
              "      <td>172787.0</td>\n",
              "      <td>-0.732789</td>\n",
              "      <td>-0.055080</td>\n",
              "      <td>2.035030</td>\n",
              "      <td>-0.738589</td>\n",
              "      <td>0.868229</td>\n",
              "      <td>1.058415</td>\n",
              "      <td>0.024330</td>\n",
              "      <td>0.294869</td>\n",
              "      <td>0.584800</td>\n",
              "      <td>-0.975926</td>\n",
              "      <td>-0.150189</td>\n",
              "      <td>0.915802</td>\n",
              "      <td>1.214756</td>\n",
              "      <td>-0.675143</td>\n",
              "      <td>1.164931</td>\n",
              "      <td>-0.711757</td>\n",
              "      <td>-0.025693</td>\n",
              "      <td>-1.221179</td>\n",
              "      <td>-1.545556</td>\n",
              "      <td>0.059616</td>\n",
              "      <td>0.214205</td>\n",
              "      <td>0.924384</td>\n",
              "      <td>0.012463</td>\n",
              "      <td>-1.016226</td>\n",
              "      <td>-0.606624</td>\n",
              "      <td>-0.395255</td>\n",
              "      <td>0.068472</td>\n",
              "      <td>-0.053527</td>\n",
              "      <td>24.79</td>\n",
              "      <td>0</td>\n",
              "    </tr>\n",
              "    <tr>\n",
              "      <th>284804</th>\n",
              "      <td>172788.0</td>\n",
              "      <td>1.919565</td>\n",
              "      <td>-0.301254</td>\n",
              "      <td>-3.249640</td>\n",
              "      <td>-0.557828</td>\n",
              "      <td>2.630515</td>\n",
              "      <td>3.031260</td>\n",
              "      <td>-0.296827</td>\n",
              "      <td>0.708417</td>\n",
              "      <td>0.432454</td>\n",
              "      <td>-0.484782</td>\n",
              "      <td>0.411614</td>\n",
              "      <td>0.063119</td>\n",
              "      <td>-0.183699</td>\n",
              "      <td>-0.510602</td>\n",
              "      <td>1.329284</td>\n",
              "      <td>0.140716</td>\n",
              "      <td>0.313502</td>\n",
              "      <td>0.395652</td>\n",
              "      <td>-0.577252</td>\n",
              "      <td>0.001396</td>\n",
              "      <td>0.232045</td>\n",
              "      <td>0.578229</td>\n",
              "      <td>-0.037501</td>\n",
              "      <td>0.640134</td>\n",
              "      <td>0.265745</td>\n",
              "      <td>-0.087371</td>\n",
              "      <td>0.004455</td>\n",
              "      <td>-0.026561</td>\n",
              "      <td>67.88</td>\n",
              "      <td>0</td>\n",
              "    </tr>\n",
              "    <tr>\n",
              "      <th>284805</th>\n",
              "      <td>172788.0</td>\n",
              "      <td>-0.240440</td>\n",
              "      <td>0.530483</td>\n",
              "      <td>0.702510</td>\n",
              "      <td>0.689799</td>\n",
              "      <td>-0.377961</td>\n",
              "      <td>0.623708</td>\n",
              "      <td>-0.686180</td>\n",
              "      <td>0.679145</td>\n",
              "      <td>0.392087</td>\n",
              "      <td>-0.399126</td>\n",
              "      <td>-1.933849</td>\n",
              "      <td>-0.962886</td>\n",
              "      <td>-1.042082</td>\n",
              "      <td>0.449624</td>\n",
              "      <td>1.962563</td>\n",
              "      <td>-0.608577</td>\n",
              "      <td>0.509928</td>\n",
              "      <td>1.113981</td>\n",
              "      <td>2.897849</td>\n",
              "      <td>0.127434</td>\n",
              "      <td>0.265245</td>\n",
              "      <td>0.800049</td>\n",
              "      <td>-0.163298</td>\n",
              "      <td>0.123205</td>\n",
              "      <td>-0.569159</td>\n",
              "      <td>0.546668</td>\n",
              "      <td>0.108821</td>\n",
              "      <td>0.104533</td>\n",
              "      <td>10.00</td>\n",
              "      <td>0</td>\n",
              "    </tr>\n",
              "    <tr>\n",
              "      <th>284806</th>\n",
              "      <td>172792.0</td>\n",
              "      <td>-0.533413</td>\n",
              "      <td>-0.189733</td>\n",
              "      <td>0.703337</td>\n",
              "      <td>-0.506271</td>\n",
              "      <td>-0.012546</td>\n",
              "      <td>-0.649617</td>\n",
              "      <td>1.577006</td>\n",
              "      <td>-0.414650</td>\n",
              "      <td>0.486180</td>\n",
              "      <td>-0.915427</td>\n",
              "      <td>-1.040458</td>\n",
              "      <td>-0.031513</td>\n",
              "      <td>-0.188093</td>\n",
              "      <td>-0.084316</td>\n",
              "      <td>0.041333</td>\n",
              "      <td>-0.302620</td>\n",
              "      <td>-0.660377</td>\n",
              "      <td>0.167430</td>\n",
              "      <td>-0.256117</td>\n",
              "      <td>0.382948</td>\n",
              "      <td>0.261057</td>\n",
              "      <td>0.643078</td>\n",
              "      <td>0.376777</td>\n",
              "      <td>0.008797</td>\n",
              "      <td>-0.473649</td>\n",
              "      <td>-0.818267</td>\n",
              "      <td>-0.002415</td>\n",
              "      <td>0.013649</td>\n",
              "      <td>217.00</td>\n",
              "      <td>0</td>\n",
              "    </tr>\n",
              "  </tbody>\n",
              "</table>\n",
              "<p>284807 rows × 31 columns</p>\n",
              "</div>"
            ],
            "text/plain": [
              "            Time         V1         V2  ...       V28  Amount  Class\n",
              "0            0.0  -1.359807  -0.072781  ... -0.021053  149.62      0\n",
              "1            0.0   1.191857   0.266151  ...  0.014724    2.69      0\n",
              "2            1.0  -1.358354  -1.340163  ... -0.059752  378.66      0\n",
              "3            1.0  -0.966272  -0.185226  ...  0.061458  123.50      0\n",
              "4            2.0  -1.158233   0.877737  ...  0.215153   69.99      0\n",
              "...          ...        ...        ...  ...       ...     ...    ...\n",
              "284802  172786.0 -11.881118  10.071785  ...  0.823731    0.77      0\n",
              "284803  172787.0  -0.732789  -0.055080  ... -0.053527   24.79      0\n",
              "284804  172788.0   1.919565  -0.301254  ... -0.026561   67.88      0\n",
              "284805  172788.0  -0.240440   0.530483  ...  0.104533   10.00      0\n",
              "284806  172792.0  -0.533413  -0.189733  ...  0.013649  217.00      0\n",
              "\n",
              "[284807 rows x 31 columns]"
            ]
          },
          "metadata": {},
          "execution_count": 111
        }
      ]
    },
    {
      "cell_type": "code",
      "metadata": {
        "id": "e5dbbeae",
        "colab": {
          "base_uri": "https://localhost:8080/",
          "height": 224
        },
        "outputId": "d285d7eb-0912-4cd2-e4e7-43a04c40480c"
      },
      "source": [
        "data.head()"
      ],
      "id": "e5dbbeae",
      "execution_count": 112,
      "outputs": [
        {
          "output_type": "execute_result",
          "data": {
            "text/html": [
              "<div>\n",
              "<style scoped>\n",
              "    .dataframe tbody tr th:only-of-type {\n",
              "        vertical-align: middle;\n",
              "    }\n",
              "\n",
              "    .dataframe tbody tr th {\n",
              "        vertical-align: top;\n",
              "    }\n",
              "\n",
              "    .dataframe thead th {\n",
              "        text-align: right;\n",
              "    }\n",
              "</style>\n",
              "<table border=\"1\" class=\"dataframe\">\n",
              "  <thead>\n",
              "    <tr style=\"text-align: right;\">\n",
              "      <th></th>\n",
              "      <th>Time</th>\n",
              "      <th>V1</th>\n",
              "      <th>V2</th>\n",
              "      <th>V3</th>\n",
              "      <th>V4</th>\n",
              "      <th>V5</th>\n",
              "      <th>V6</th>\n",
              "      <th>V7</th>\n",
              "      <th>V8</th>\n",
              "      <th>V9</th>\n",
              "      <th>V10</th>\n",
              "      <th>V11</th>\n",
              "      <th>V12</th>\n",
              "      <th>V13</th>\n",
              "      <th>V14</th>\n",
              "      <th>V15</th>\n",
              "      <th>V16</th>\n",
              "      <th>V17</th>\n",
              "      <th>V18</th>\n",
              "      <th>V19</th>\n",
              "      <th>V20</th>\n",
              "      <th>V21</th>\n",
              "      <th>V22</th>\n",
              "      <th>V23</th>\n",
              "      <th>V24</th>\n",
              "      <th>V25</th>\n",
              "      <th>V26</th>\n",
              "      <th>V27</th>\n",
              "      <th>V28</th>\n",
              "      <th>Amount</th>\n",
              "      <th>Class</th>\n",
              "    </tr>\n",
              "  </thead>\n",
              "  <tbody>\n",
              "    <tr>\n",
              "      <th>0</th>\n",
              "      <td>0.0</td>\n",
              "      <td>-1.359807</td>\n",
              "      <td>-0.072781</td>\n",
              "      <td>2.536347</td>\n",
              "      <td>1.378155</td>\n",
              "      <td>-0.338321</td>\n",
              "      <td>0.462388</td>\n",
              "      <td>0.239599</td>\n",
              "      <td>0.098698</td>\n",
              "      <td>0.363787</td>\n",
              "      <td>0.090794</td>\n",
              "      <td>-0.551600</td>\n",
              "      <td>-0.617801</td>\n",
              "      <td>-0.991390</td>\n",
              "      <td>-0.311169</td>\n",
              "      <td>1.468177</td>\n",
              "      <td>-0.470401</td>\n",
              "      <td>0.207971</td>\n",
              "      <td>0.025791</td>\n",
              "      <td>0.403993</td>\n",
              "      <td>0.251412</td>\n",
              "      <td>-0.018307</td>\n",
              "      <td>0.277838</td>\n",
              "      <td>-0.110474</td>\n",
              "      <td>0.066928</td>\n",
              "      <td>0.128539</td>\n",
              "      <td>-0.189115</td>\n",
              "      <td>0.133558</td>\n",
              "      <td>-0.021053</td>\n",
              "      <td>149.62</td>\n",
              "      <td>0</td>\n",
              "    </tr>\n",
              "    <tr>\n",
              "      <th>1</th>\n",
              "      <td>0.0</td>\n",
              "      <td>1.191857</td>\n",
              "      <td>0.266151</td>\n",
              "      <td>0.166480</td>\n",
              "      <td>0.448154</td>\n",
              "      <td>0.060018</td>\n",
              "      <td>-0.082361</td>\n",
              "      <td>-0.078803</td>\n",
              "      <td>0.085102</td>\n",
              "      <td>-0.255425</td>\n",
              "      <td>-0.166974</td>\n",
              "      <td>1.612727</td>\n",
              "      <td>1.065235</td>\n",
              "      <td>0.489095</td>\n",
              "      <td>-0.143772</td>\n",
              "      <td>0.635558</td>\n",
              "      <td>0.463917</td>\n",
              "      <td>-0.114805</td>\n",
              "      <td>-0.183361</td>\n",
              "      <td>-0.145783</td>\n",
              "      <td>-0.069083</td>\n",
              "      <td>-0.225775</td>\n",
              "      <td>-0.638672</td>\n",
              "      <td>0.101288</td>\n",
              "      <td>-0.339846</td>\n",
              "      <td>0.167170</td>\n",
              "      <td>0.125895</td>\n",
              "      <td>-0.008983</td>\n",
              "      <td>0.014724</td>\n",
              "      <td>2.69</td>\n",
              "      <td>0</td>\n",
              "    </tr>\n",
              "    <tr>\n",
              "      <th>2</th>\n",
              "      <td>1.0</td>\n",
              "      <td>-1.358354</td>\n",
              "      <td>-1.340163</td>\n",
              "      <td>1.773209</td>\n",
              "      <td>0.379780</td>\n",
              "      <td>-0.503198</td>\n",
              "      <td>1.800499</td>\n",
              "      <td>0.791461</td>\n",
              "      <td>0.247676</td>\n",
              "      <td>-1.514654</td>\n",
              "      <td>0.207643</td>\n",
              "      <td>0.624501</td>\n",
              "      <td>0.066084</td>\n",
              "      <td>0.717293</td>\n",
              "      <td>-0.165946</td>\n",
              "      <td>2.345865</td>\n",
              "      <td>-2.890083</td>\n",
              "      <td>1.109969</td>\n",
              "      <td>-0.121359</td>\n",
              "      <td>-2.261857</td>\n",
              "      <td>0.524980</td>\n",
              "      <td>0.247998</td>\n",
              "      <td>0.771679</td>\n",
              "      <td>0.909412</td>\n",
              "      <td>-0.689281</td>\n",
              "      <td>-0.327642</td>\n",
              "      <td>-0.139097</td>\n",
              "      <td>-0.055353</td>\n",
              "      <td>-0.059752</td>\n",
              "      <td>378.66</td>\n",
              "      <td>0</td>\n",
              "    </tr>\n",
              "    <tr>\n",
              "      <th>3</th>\n",
              "      <td>1.0</td>\n",
              "      <td>-0.966272</td>\n",
              "      <td>-0.185226</td>\n",
              "      <td>1.792993</td>\n",
              "      <td>-0.863291</td>\n",
              "      <td>-0.010309</td>\n",
              "      <td>1.247203</td>\n",
              "      <td>0.237609</td>\n",
              "      <td>0.377436</td>\n",
              "      <td>-1.387024</td>\n",
              "      <td>-0.054952</td>\n",
              "      <td>-0.226487</td>\n",
              "      <td>0.178228</td>\n",
              "      <td>0.507757</td>\n",
              "      <td>-0.287924</td>\n",
              "      <td>-0.631418</td>\n",
              "      <td>-1.059647</td>\n",
              "      <td>-0.684093</td>\n",
              "      <td>1.965775</td>\n",
              "      <td>-1.232622</td>\n",
              "      <td>-0.208038</td>\n",
              "      <td>-0.108300</td>\n",
              "      <td>0.005274</td>\n",
              "      <td>-0.190321</td>\n",
              "      <td>-1.175575</td>\n",
              "      <td>0.647376</td>\n",
              "      <td>-0.221929</td>\n",
              "      <td>0.062723</td>\n",
              "      <td>0.061458</td>\n",
              "      <td>123.50</td>\n",
              "      <td>0</td>\n",
              "    </tr>\n",
              "    <tr>\n",
              "      <th>4</th>\n",
              "      <td>2.0</td>\n",
              "      <td>-1.158233</td>\n",
              "      <td>0.877737</td>\n",
              "      <td>1.548718</td>\n",
              "      <td>0.403034</td>\n",
              "      <td>-0.407193</td>\n",
              "      <td>0.095921</td>\n",
              "      <td>0.592941</td>\n",
              "      <td>-0.270533</td>\n",
              "      <td>0.817739</td>\n",
              "      <td>0.753074</td>\n",
              "      <td>-0.822843</td>\n",
              "      <td>0.538196</td>\n",
              "      <td>1.345852</td>\n",
              "      <td>-1.119670</td>\n",
              "      <td>0.175121</td>\n",
              "      <td>-0.451449</td>\n",
              "      <td>-0.237033</td>\n",
              "      <td>-0.038195</td>\n",
              "      <td>0.803487</td>\n",
              "      <td>0.408542</td>\n",
              "      <td>-0.009431</td>\n",
              "      <td>0.798278</td>\n",
              "      <td>-0.137458</td>\n",
              "      <td>0.141267</td>\n",
              "      <td>-0.206010</td>\n",
              "      <td>0.502292</td>\n",
              "      <td>0.219422</td>\n",
              "      <td>0.215153</td>\n",
              "      <td>69.99</td>\n",
              "      <td>0</td>\n",
              "    </tr>\n",
              "  </tbody>\n",
              "</table>\n",
              "</div>"
            ],
            "text/plain": [
              "   Time        V1        V2        V3  ...       V27       V28  Amount  Class\n",
              "0   0.0 -1.359807 -0.072781  2.536347  ...  0.133558 -0.021053  149.62      0\n",
              "1   0.0  1.191857  0.266151  0.166480  ... -0.008983  0.014724    2.69      0\n",
              "2   1.0 -1.358354 -1.340163  1.773209  ... -0.055353 -0.059752  378.66      0\n",
              "3   1.0 -0.966272 -0.185226  1.792993  ...  0.062723  0.061458  123.50      0\n",
              "4   2.0 -1.158233  0.877737  1.548718  ...  0.219422  0.215153   69.99      0\n",
              "\n",
              "[5 rows x 31 columns]"
            ]
          },
          "metadata": {},
          "execution_count": 112
        }
      ]
    },
    {
      "cell_type": "code",
      "metadata": {
        "id": "9c631267",
        "colab": {
          "base_uri": "https://localhost:8080/"
        },
        "outputId": "35e5bda5-393b-4d74-b50b-ee565f2d175e"
      },
      "source": [
        "data.shape"
      ],
      "id": "9c631267",
      "execution_count": 113,
      "outputs": [
        {
          "output_type": "execute_result",
          "data": {
            "text/plain": [
              "(284807, 31)"
            ]
          },
          "metadata": {},
          "execution_count": 113
        }
      ]
    },
    {
      "cell_type": "code",
      "metadata": {
        "id": "c48e4f2f",
        "colab": {
          "base_uri": "https://localhost:8080/"
        },
        "outputId": "dcfb3a60-e584-4847-c981-13fdfe65991d"
      },
      "source": [
        "data.isna().sum()"
      ],
      "id": "c48e4f2f",
      "execution_count": 114,
      "outputs": [
        {
          "output_type": "execute_result",
          "data": {
            "text/plain": [
              "Time      0\n",
              "V1        0\n",
              "V2        0\n",
              "V3        0\n",
              "V4        0\n",
              "V5        0\n",
              "V6        0\n",
              "V7        0\n",
              "V8        0\n",
              "V9        0\n",
              "V10       0\n",
              "V11       0\n",
              "V12       0\n",
              "V13       0\n",
              "V14       0\n",
              "V15       0\n",
              "V16       0\n",
              "V17       0\n",
              "V18       0\n",
              "V19       0\n",
              "V20       0\n",
              "V21       0\n",
              "V22       0\n",
              "V23       0\n",
              "V24       0\n",
              "V25       0\n",
              "V26       0\n",
              "V27       0\n",
              "V28       0\n",
              "Amount    0\n",
              "Class     0\n",
              "dtype: int64"
            ]
          },
          "metadata": {},
          "execution_count": 114
        }
      ]
    },
    {
      "cell_type": "code",
      "metadata": {
        "id": "8a83129b"
      },
      "source": [
        "x=data.drop_duplicates(inplace=True)\n"
      ],
      "id": "8a83129b",
      "execution_count": 115,
      "outputs": []
    },
    {
      "cell_type": "code",
      "metadata": {
        "id": "29a80403",
        "colab": {
          "base_uri": "https://localhost:8080/",
          "height": 317
        },
        "outputId": "551e5aa7-1b01-46ab-9062-52b06fb666f5"
      },
      "source": [
        "data.describe()"
      ],
      "id": "29a80403",
      "execution_count": 116,
      "outputs": [
        {
          "output_type": "execute_result",
          "data": {
            "text/html": [
              "<div>\n",
              "<style scoped>\n",
              "    .dataframe tbody tr th:only-of-type {\n",
              "        vertical-align: middle;\n",
              "    }\n",
              "\n",
              "    .dataframe tbody tr th {\n",
              "        vertical-align: top;\n",
              "    }\n",
              "\n",
              "    .dataframe thead th {\n",
              "        text-align: right;\n",
              "    }\n",
              "</style>\n",
              "<table border=\"1\" class=\"dataframe\">\n",
              "  <thead>\n",
              "    <tr style=\"text-align: right;\">\n",
              "      <th></th>\n",
              "      <th>Time</th>\n",
              "      <th>V1</th>\n",
              "      <th>V2</th>\n",
              "      <th>V3</th>\n",
              "      <th>V4</th>\n",
              "      <th>V5</th>\n",
              "      <th>V6</th>\n",
              "      <th>V7</th>\n",
              "      <th>V8</th>\n",
              "      <th>V9</th>\n",
              "      <th>V10</th>\n",
              "      <th>V11</th>\n",
              "      <th>V12</th>\n",
              "      <th>V13</th>\n",
              "      <th>V14</th>\n",
              "      <th>V15</th>\n",
              "      <th>V16</th>\n",
              "      <th>V17</th>\n",
              "      <th>V18</th>\n",
              "      <th>V19</th>\n",
              "      <th>V20</th>\n",
              "      <th>V21</th>\n",
              "      <th>V22</th>\n",
              "      <th>V23</th>\n",
              "      <th>V24</th>\n",
              "      <th>V25</th>\n",
              "      <th>V26</th>\n",
              "      <th>V27</th>\n",
              "      <th>V28</th>\n",
              "      <th>Amount</th>\n",
              "      <th>Class</th>\n",
              "    </tr>\n",
              "  </thead>\n",
              "  <tbody>\n",
              "    <tr>\n",
              "      <th>count</th>\n",
              "      <td>283726.000000</td>\n",
              "      <td>283726.000000</td>\n",
              "      <td>283726.000000</td>\n",
              "      <td>283726.000000</td>\n",
              "      <td>283726.000000</td>\n",
              "      <td>283726.000000</td>\n",
              "      <td>283726.000000</td>\n",
              "      <td>283726.000000</td>\n",
              "      <td>283726.000000</td>\n",
              "      <td>283726.000000</td>\n",
              "      <td>283726.000000</td>\n",
              "      <td>283726.000000</td>\n",
              "      <td>283726.000000</td>\n",
              "      <td>283726.000000</td>\n",
              "      <td>283726.000000</td>\n",
              "      <td>283726.000000</td>\n",
              "      <td>283726.000000</td>\n",
              "      <td>283726.000000</td>\n",
              "      <td>283726.000000</td>\n",
              "      <td>283726.000000</td>\n",
              "      <td>283726.000000</td>\n",
              "      <td>283726.000000</td>\n",
              "      <td>283726.000000</td>\n",
              "      <td>283726.000000</td>\n",
              "      <td>283726.000000</td>\n",
              "      <td>283726.000000</td>\n",
              "      <td>283726.000000</td>\n",
              "      <td>283726.000000</td>\n",
              "      <td>283726.000000</td>\n",
              "      <td>283726.000000</td>\n",
              "      <td>283726.000000</td>\n",
              "    </tr>\n",
              "    <tr>\n",
              "      <th>mean</th>\n",
              "      <td>94811.077600</td>\n",
              "      <td>0.005917</td>\n",
              "      <td>-0.004135</td>\n",
              "      <td>0.001613</td>\n",
              "      <td>-0.002966</td>\n",
              "      <td>0.001828</td>\n",
              "      <td>-0.001139</td>\n",
              "      <td>0.001801</td>\n",
              "      <td>-0.000854</td>\n",
              "      <td>-0.001596</td>\n",
              "      <td>-0.001441</td>\n",
              "      <td>0.000202</td>\n",
              "      <td>-0.000715</td>\n",
              "      <td>0.000603</td>\n",
              "      <td>0.000252</td>\n",
              "      <td>0.001043</td>\n",
              "      <td>0.001162</td>\n",
              "      <td>0.000170</td>\n",
              "      <td>0.001515</td>\n",
              "      <td>-0.000264</td>\n",
              "      <td>0.000187</td>\n",
              "      <td>-0.000371</td>\n",
              "      <td>-0.000015</td>\n",
              "      <td>0.000198</td>\n",
              "      <td>0.000214</td>\n",
              "      <td>-0.000232</td>\n",
              "      <td>0.000149</td>\n",
              "      <td>0.001763</td>\n",
              "      <td>0.000547</td>\n",
              "      <td>88.472687</td>\n",
              "      <td>0.001667</td>\n",
              "    </tr>\n",
              "    <tr>\n",
              "      <th>std</th>\n",
              "      <td>47481.047891</td>\n",
              "      <td>1.948026</td>\n",
              "      <td>1.646703</td>\n",
              "      <td>1.508682</td>\n",
              "      <td>1.414184</td>\n",
              "      <td>1.377008</td>\n",
              "      <td>1.331931</td>\n",
              "      <td>1.227664</td>\n",
              "      <td>1.179054</td>\n",
              "      <td>1.095492</td>\n",
              "      <td>1.076407</td>\n",
              "      <td>1.018720</td>\n",
              "      <td>0.994674</td>\n",
              "      <td>0.995430</td>\n",
              "      <td>0.952215</td>\n",
              "      <td>0.914894</td>\n",
              "      <td>0.873696</td>\n",
              "      <td>0.842507</td>\n",
              "      <td>0.837378</td>\n",
              "      <td>0.813379</td>\n",
              "      <td>0.769984</td>\n",
              "      <td>0.723909</td>\n",
              "      <td>0.724550</td>\n",
              "      <td>0.623702</td>\n",
              "      <td>0.605627</td>\n",
              "      <td>0.521220</td>\n",
              "      <td>0.482053</td>\n",
              "      <td>0.395744</td>\n",
              "      <td>0.328027</td>\n",
              "      <td>250.399437</td>\n",
              "      <td>0.040796</td>\n",
              "    </tr>\n",
              "    <tr>\n",
              "      <th>min</th>\n",
              "      <td>0.000000</td>\n",
              "      <td>-56.407510</td>\n",
              "      <td>-72.715728</td>\n",
              "      <td>-48.325589</td>\n",
              "      <td>-5.683171</td>\n",
              "      <td>-113.743307</td>\n",
              "      <td>-26.160506</td>\n",
              "      <td>-43.557242</td>\n",
              "      <td>-73.216718</td>\n",
              "      <td>-13.434066</td>\n",
              "      <td>-24.588262</td>\n",
              "      <td>-4.797473</td>\n",
              "      <td>-18.683715</td>\n",
              "      <td>-5.791881</td>\n",
              "      <td>-19.214325</td>\n",
              "      <td>-4.498945</td>\n",
              "      <td>-14.129855</td>\n",
              "      <td>-25.162799</td>\n",
              "      <td>-9.498746</td>\n",
              "      <td>-7.213527</td>\n",
              "      <td>-54.497720</td>\n",
              "      <td>-34.830382</td>\n",
              "      <td>-10.933144</td>\n",
              "      <td>-44.807735</td>\n",
              "      <td>-2.836627</td>\n",
              "      <td>-10.295397</td>\n",
              "      <td>-2.604551</td>\n",
              "      <td>-22.565679</td>\n",
              "      <td>-15.430084</td>\n",
              "      <td>0.000000</td>\n",
              "      <td>0.000000</td>\n",
              "    </tr>\n",
              "    <tr>\n",
              "      <th>25%</th>\n",
              "      <td>54204.750000</td>\n",
              "      <td>-0.915951</td>\n",
              "      <td>-0.600321</td>\n",
              "      <td>-0.889682</td>\n",
              "      <td>-0.850134</td>\n",
              "      <td>-0.689830</td>\n",
              "      <td>-0.769031</td>\n",
              "      <td>-0.552509</td>\n",
              "      <td>-0.208828</td>\n",
              "      <td>-0.644221</td>\n",
              "      <td>-0.535578</td>\n",
              "      <td>-0.761649</td>\n",
              "      <td>-0.406198</td>\n",
              "      <td>-0.647862</td>\n",
              "      <td>-0.425732</td>\n",
              "      <td>-0.581452</td>\n",
              "      <td>-0.466860</td>\n",
              "      <td>-0.483928</td>\n",
              "      <td>-0.498014</td>\n",
              "      <td>-0.456289</td>\n",
              "      <td>-0.211469</td>\n",
              "      <td>-0.228305</td>\n",
              "      <td>-0.542700</td>\n",
              "      <td>-0.161703</td>\n",
              "      <td>-0.354453</td>\n",
              "      <td>-0.317485</td>\n",
              "      <td>-0.326763</td>\n",
              "      <td>-0.070641</td>\n",
              "      <td>-0.052818</td>\n",
              "      <td>5.600000</td>\n",
              "      <td>0.000000</td>\n",
              "    </tr>\n",
              "    <tr>\n",
              "      <th>50%</th>\n",
              "      <td>84692.500000</td>\n",
              "      <td>0.020384</td>\n",
              "      <td>0.063949</td>\n",
              "      <td>0.179963</td>\n",
              "      <td>-0.022248</td>\n",
              "      <td>-0.053468</td>\n",
              "      <td>-0.275168</td>\n",
              "      <td>0.040859</td>\n",
              "      <td>0.021898</td>\n",
              "      <td>-0.052596</td>\n",
              "      <td>-0.093237</td>\n",
              "      <td>-0.032306</td>\n",
              "      <td>0.139072</td>\n",
              "      <td>-0.012927</td>\n",
              "      <td>0.050209</td>\n",
              "      <td>0.049299</td>\n",
              "      <td>0.067119</td>\n",
              "      <td>-0.065867</td>\n",
              "      <td>-0.002142</td>\n",
              "      <td>0.003367</td>\n",
              "      <td>-0.062353</td>\n",
              "      <td>-0.029441</td>\n",
              "      <td>0.006675</td>\n",
              "      <td>-0.011159</td>\n",
              "      <td>0.041016</td>\n",
              "      <td>0.016278</td>\n",
              "      <td>-0.052172</td>\n",
              "      <td>0.001479</td>\n",
              "      <td>0.011288</td>\n",
              "      <td>22.000000</td>\n",
              "      <td>0.000000</td>\n",
              "    </tr>\n",
              "    <tr>\n",
              "      <th>75%</th>\n",
              "      <td>139298.000000</td>\n",
              "      <td>1.316068</td>\n",
              "      <td>0.800283</td>\n",
              "      <td>1.026960</td>\n",
              "      <td>0.739647</td>\n",
              "      <td>0.612218</td>\n",
              "      <td>0.396792</td>\n",
              "      <td>0.570474</td>\n",
              "      <td>0.325704</td>\n",
              "      <td>0.595977</td>\n",
              "      <td>0.453619</td>\n",
              "      <td>0.739579</td>\n",
              "      <td>0.616976</td>\n",
              "      <td>0.663178</td>\n",
              "      <td>0.492336</td>\n",
              "      <td>0.650104</td>\n",
              "      <td>0.523512</td>\n",
              "      <td>0.398972</td>\n",
              "      <td>0.501956</td>\n",
              "      <td>0.458508</td>\n",
              "      <td>0.133207</td>\n",
              "      <td>0.186194</td>\n",
              "      <td>0.528245</td>\n",
              "      <td>0.147748</td>\n",
              "      <td>0.439738</td>\n",
              "      <td>0.350667</td>\n",
              "      <td>0.240261</td>\n",
              "      <td>0.091208</td>\n",
              "      <td>0.078276</td>\n",
              "      <td>77.510000</td>\n",
              "      <td>0.000000</td>\n",
              "    </tr>\n",
              "    <tr>\n",
              "      <th>max</th>\n",
              "      <td>172792.000000</td>\n",
              "      <td>2.454930</td>\n",
              "      <td>22.057729</td>\n",
              "      <td>9.382558</td>\n",
              "      <td>16.875344</td>\n",
              "      <td>34.801666</td>\n",
              "      <td>73.301626</td>\n",
              "      <td>120.589494</td>\n",
              "      <td>20.007208</td>\n",
              "      <td>15.594995</td>\n",
              "      <td>23.745136</td>\n",
              "      <td>12.018913</td>\n",
              "      <td>7.848392</td>\n",
              "      <td>7.126883</td>\n",
              "      <td>10.526766</td>\n",
              "      <td>8.877742</td>\n",
              "      <td>17.315112</td>\n",
              "      <td>9.253526</td>\n",
              "      <td>5.041069</td>\n",
              "      <td>5.591971</td>\n",
              "      <td>39.420904</td>\n",
              "      <td>27.202839</td>\n",
              "      <td>10.503090</td>\n",
              "      <td>22.528412</td>\n",
              "      <td>4.584549</td>\n",
              "      <td>7.519589</td>\n",
              "      <td>3.517346</td>\n",
              "      <td>31.612198</td>\n",
              "      <td>33.847808</td>\n",
              "      <td>25691.160000</td>\n",
              "      <td>1.000000</td>\n",
              "    </tr>\n",
              "  </tbody>\n",
              "</table>\n",
              "</div>"
            ],
            "text/plain": [
              "                Time             V1  ...         Amount          Class\n",
              "count  283726.000000  283726.000000  ...  283726.000000  283726.000000\n",
              "mean    94811.077600       0.005917  ...      88.472687       0.001667\n",
              "std     47481.047891       1.948026  ...     250.399437       0.040796\n",
              "min         0.000000     -56.407510  ...       0.000000       0.000000\n",
              "25%     54204.750000      -0.915951  ...       5.600000       0.000000\n",
              "50%     84692.500000       0.020384  ...      22.000000       0.000000\n",
              "75%    139298.000000       1.316068  ...      77.510000       0.000000\n",
              "max    172792.000000       2.454930  ...   25691.160000       1.000000\n",
              "\n",
              "[8 rows x 31 columns]"
            ]
          },
          "metadata": {},
          "execution_count": 116
        }
      ]
    },
    {
      "cell_type": "code",
      "metadata": {
        "id": "3483c655",
        "colab": {
          "base_uri": "https://localhost:8080/"
        },
        "outputId": "663c982d-d414-4c3c-9053-84ece53be191"
      },
      "source": [
        "data['Class'].value_counts()"
      ],
      "id": "3483c655",
      "execution_count": 117,
      "outputs": [
        {
          "output_type": "execute_result",
          "data": {
            "text/plain": [
              "0    283253\n",
              "1       473\n",
              "Name: Class, dtype: int64"
            ]
          },
          "metadata": {},
          "execution_count": 117
        }
      ]
    },
    {
      "cell_type": "markdown",
      "metadata": {
        "id": "b8e958c9"
      },
      "source": [
        "**0= \"No Fraud Cases\"**\n",
        "\n"
      ],
      "id": "b8e958c9"
    },
    {
      "cell_type": "markdown",
      "metadata": {
        "id": "975bc985"
      },
      "source": [
        "**1 = \" Fraud Cases\"**"
      ],
      "id": "975bc985"
    },
    {
      "cell_type": "markdown",
      "metadata": {
        "id": "416f2ca0"
      },
      "source": [
        "# Data States 'No Fraud Cases' =283253 And 'Fraud Cases' = 473 . Hence the class Data is unbalanced so here  data balancing is necessary !"
      ],
      "id": "416f2ca0"
    },
    {
      "cell_type": "code",
      "metadata": {
        "id": "acc9fb71",
        "colab": {
          "base_uri": "https://localhost:8080/"
        },
        "outputId": "c664b29d-cca5-4b0a-ded5-13c0c08b9a73"
      },
      "source": [
        "len(data.Class)"
      ],
      "id": "acc9fb71",
      "execution_count": 118,
      "outputs": [
        {
          "output_type": "execute_result",
          "data": {
            "text/plain": [
              "283726"
            ]
          },
          "metadata": {},
          "execution_count": 118
        }
      ]
    },
    {
      "cell_type": "markdown",
      "metadata": {
        "id": "d3b24fa1"
      },
      "source": [
        "# 4.Exploratory Data Analysis"
      ],
      "id": "d3b24fa1"
    },
    {
      "cell_type": "code",
      "metadata": {
        "id": "bcc4dbe4"
      },
      "source": [
        "#histplot"
      ],
      "id": "bcc4dbe4",
      "execution_count": 119,
      "outputs": []
    },
    {
      "cell_type": "code",
      "metadata": {
        "id": "f239721b",
        "colab": {
          "base_uri": "https://localhost:8080/",
          "height": 295
        },
        "outputId": "2a4f8a43-ba4e-432f-9967-70207f5585dd"
      },
      "source": [
        "sns.boxplot(x='Class',y='Time',data=data)\n",
        "plt.title('BoxPlot for Class')\n",
        "plt.show()"
      ],
      "id": "f239721b",
      "execution_count": 120,
      "outputs": [
        {
          "output_type": "display_data",
          "data": {
            "image/png": "[encoded data removed]",
            "text/plain": [
              "<Figure size 432x288 with 1 Axes>"
            ]
          },
          "metadata": {
            "needs_background": "light"
          }
        }
      ]
    },
    {
      "cell_type": "markdown",
      "metadata": {
        "id": "f779368b"
      },
      "source": [
        "**Fraud and Non Fraud Cases took place at almost same timimg so Time feature is not an important feature for classification**"
      ],
      "id": "f779368b"
    },
    {
      "cell_type": "code",
      "metadata": {
        "id": "aa08a26c",
        "colab": {
          "base_uri": "https://localhost:8080/",
          "height": 295
        },
        "outputId": "745d5f9c-71d4-4130-915a-970d4b6dbad3"
      },
      "source": [
        "sns.boxplot(x='Class',y='V1',data=data)\n",
        "plt.title('BoxPlot for Class')\n",
        "plt.show()"
      ],
      "id": "aa08a26c",
      "execution_count": 121,
      "outputs": [
        {
          "output_type": "display_data",
          "data": {
            "image/png": "[encoded data removed]",
            "text/plain": [
              "<Figure size 432x288 with 1 Axes>"
            ]
          },
          "metadata": {
            "needs_background": "light"
          }
        }
      ]
    },
    {
      "cell_type": "code",
      "metadata": {
        "id": "6a22f7b0",
        "colab": {
          "base_uri": "https://localhost:8080/",
          "height": 295
        },
        "outputId": "3bd32043-553f-4a0e-dfee-3a2d6b8490ac"
      },
      "source": [
        "sns.boxplot(x='Class',y='V10',data=data)\n",
        "plt.title('BoxPlot for Class')\n",
        "plt.show()"
      ],
      "id": "6a22f7b0",
      "execution_count": 122,
      "outputs": [
        {
          "output_type": "display_data",
          "data": {
            "image/png": "[encoded data removed]",
            "text/plain": [
              "<Figure size 432x288 with 1 Axes>"
            ]
          },
          "metadata": {
            "needs_background": "light"
          }
        }
      ]
    },
    {
      "cell_type": "code",
      "metadata": {
        "id": "4befa137",
        "colab": {
          "base_uri": "https://localhost:8080/",
          "height": 409
        },
        "outputId": "25a0c623-694a-415c-e035-abacae953396"
      },
      "source": [
        "plt.figure(figsize=(11,6))\n",
        "sns.barplot(x='V5',y='V4',data=data[170:175])\n",
        "plt.title('V4 VS V5',fontsize=20)\n",
        "plt.xlabel(' V5')\n",
        "plt.ylabel('V4')\n",
        "plt.show()"
      ],
      "id": "4befa137",
      "execution_count": 123,
      "outputs": [
        {
          "output_type": "display_data",
          "data": {
            "image/png": "[encoded data removed]",
            "text/plain": [
              "<Figure size 792x432 with 1 Axes>"
            ]
          },
          "metadata": {
            "needs_background": "light"
          }
        }
      ]
    },
    {
      "cell_type": "markdown",
      "metadata": {
        "id": "b81f27e8"
      },
      "source": [
        "**From above graph we can commit that both feature V4 and V5 both have positive as well as negative correlation.**"
      ],
      "id": "b81f27e8"
    },
    {
      "cell_type": "code",
      "metadata": {
        "id": "23170122",
        "colab": {
          "base_uri": "https://localhost:8080/",
          "height": 295
        },
        "outputId": "509ecf9c-968a-4af5-ae28-5d3fcc13b6da"
      },
      "source": [
        "sns.scatterplot(x='V1',y='V2',data=data,hue='Class')\n",
        "plt.title('scatter')\n",
        "plt.show()\n"
      ],
      "id": "23170122",
      "execution_count": 124,
      "outputs": [
        {
          "output_type": "display_data",
          "data": {
            "image/png": "[encoded data removed]",
            "text/plain": [
              "<Figure size 432x288 with 1 Axes>"
            ]
          },
          "metadata": {
            "needs_background": "light"
          }
        }
      ]
    },
    {
      "cell_type": "markdown",
      "metadata": {
        "id": "9e793789"
      },
      "source": [
        "**1. a=int(input('V2'))**\n",
        "\n",
        " **b=int(input('V1'))**\n",
        "\n",
        "  **if V2>=0 and V1<0:**\n",
        "\n",
        "  **print('Chances of Fraud Cases')**\n",
        "    "
      ],
      "id": "9e793789"
    },
    {
      "cell_type": "markdown",
      "metadata": {
        "id": "1ca9216b"
      },
      "source": [
        "**2. a=int(input('V2'))**\n",
        "\n",
        " **b=int(input('V1'))**\n",
        "\n",
        "  **if V2<0 and V1<0:**\n",
        "\n",
        "  **print('No Fraud Cases')**\n",
        "    "
      ],
      "id": "1ca9216b"
    },
    {
      "cell_type": "code",
      "metadata": {
        "id": "6f5462ce",
        "colab": {
          "base_uri": "https://localhost:8080/",
          "height": 295
        },
        "outputId": "4443b533-77e7-4100-fe3a-03725979e449"
      },
      "source": [
        "sns.scatterplot(x='V3',y='V4',data=data,hue='Class')\n",
        "plt.title('Scatter')\n",
        "plt.show()"
      ],
      "id": "6f5462ce",
      "execution_count": 125,
      "outputs": [
        {
          "output_type": "display_data",
          "data": {
            "image/png": "[encoded data removed]",
            "text/plain": [
              "<Figure size 432x288 with 1 Axes>"
            ]
          },
          "metadata": {
            "needs_background": "light"
          }
        }
      ]
    },
    {
      "cell_type": "markdown",
      "metadata": {
        "id": "1d349f35"
      },
      "source": [
        "**1. a=int(input('V4'))**\n",
        "\n",
        "   **b=int(input('V3'))**\n",
        "\n",
        "   **if V4>=1 and V3< -5:**\n",
        "\n",
        "   **print('Chances of Fraud Cases')**\n",
        "    "
      ],
      "id": "1d349f35"
    },
    {
      "cell_type": "markdown",
      "metadata": {
        "id": "1533a01f"
      },
      "source": [
        "**2. a=int(input('V4'))**\n",
        "\n",
        "**b=int(input('V3'))**\n",
        "\n",
        "**if V4<4 and V3<4:**\n",
        "\n",
        "**print('Chances of No Fraud Cases')**"
      ],
      "id": "1533a01f"
    },
    {
      "cell_type": "code",
      "metadata": {
        "id": "d9a79e9e",
        "colab": {
          "base_uri": "https://localhost:8080/",
          "height": 1000
        },
        "outputId": "1a0ef350-3e4e-407c-eb32-0b215a768ca0"
      },
      "source": [
        "data.corr()"
      ],
      "id": "d9a79e9e",
      "execution_count": 126,
      "outputs": [
        {
          "output_type": "execute_result",
          "data": {
            "text/html": [
              "<div>\n",
              "<style scoped>\n",
              "    .dataframe tbody tr th:only-of-type {\n",
              "        vertical-align: middle;\n",
              "    }\n",
              "\n",
              "    .dataframe tbody tr th {\n",
              "        vertical-align: top;\n",
              "    }\n",
              "\n",
              "    .dataframe thead th {\n",
              "        text-align: right;\n",
              "    }\n",
              "</style>\n",
              "<table border=\"1\" class=\"dataframe\">\n",
              "  <thead>\n",
              "    <tr style=\"text-align: right;\">\n",
              "      <th></th>\n",
              "      <th>Time</th>\n",
              "      <th>V1</th>\n",
              "      <th>V2</th>\n",
              "      <th>V3</th>\n",
              "      <th>V4</th>\n",
              "      <th>V5</th>\n",
              "      <th>V6</th>\n",
              "      <th>V7</th>\n",
              "      <th>V8</th>\n",
              "      <th>V9</th>\n",
              "      <th>V10</th>\n",
              "      <th>V11</th>\n",
              "      <th>V12</th>\n",
              "      <th>V13</th>\n",
              "      <th>V14</th>\n",
              "      <th>V15</th>\n",
              "      <th>V16</th>\n",
              "      <th>V17</th>\n",
              "      <th>V18</th>\n",
              "      <th>V19</th>\n",
              "      <th>V20</th>\n",
              "      <th>V21</th>\n",
              "      <th>V22</th>\n",
              "      <th>V23</th>\n",
              "      <th>V24</th>\n",
              "      <th>V25</th>\n",
              "      <th>V26</th>\n",
              "      <th>V27</th>\n",
              "      <th>V28</th>\n",
              "      <th>Amount</th>\n",
              "      <th>Class</th>\n",
              "    </tr>\n",
              "  </thead>\n",
              "  <tbody>\n",
              "    <tr>\n",
              "      <th>Time</th>\n",
              "      <td>1.000000</td>\n",
              "      <td>0.117927</td>\n",
              "      <td>-0.010556</td>\n",
              "      <td>-0.422054</td>\n",
              "      <td>-0.105845</td>\n",
              "      <td>0.173223</td>\n",
              "      <td>-0.063279</td>\n",
              "      <td>0.085335</td>\n",
              "      <td>-0.038203</td>\n",
              "      <td>-0.007861</td>\n",
              "      <td>0.031068</td>\n",
              "      <td>-0.248536</td>\n",
              "      <td>0.125500</td>\n",
              "      <td>-0.065958</td>\n",
              "      <td>-0.100316</td>\n",
              "      <td>-0.184392</td>\n",
              "      <td>0.011286</td>\n",
              "      <td>-0.073819</td>\n",
              "      <td>0.090305</td>\n",
              "      <td>0.029537</td>\n",
              "      <td>-0.051022</td>\n",
              "      <td>0.045913</td>\n",
              "      <td>0.143727</td>\n",
              "      <td>0.051474</td>\n",
              "      <td>-0.015954</td>\n",
              "      <td>-0.233262</td>\n",
              "      <td>-0.041818</td>\n",
              "      <td>-0.005171</td>\n",
              "      <td>-0.009305</td>\n",
              "      <td>-0.010559</td>\n",
              "      <td>-0.012359</td>\n",
              "    </tr>\n",
              "    <tr>\n",
              "      <th>V1</th>\n",
              "      <td>0.117927</td>\n",
              "      <td>1.000000</td>\n",
              "      <td>0.006875</td>\n",
              "      <td>-0.008112</td>\n",
              "      <td>0.002257</td>\n",
              "      <td>-0.007036</td>\n",
              "      <td>0.000413</td>\n",
              "      <td>-0.009173</td>\n",
              "      <td>-0.001168</td>\n",
              "      <td>0.001828</td>\n",
              "      <td>0.000815</td>\n",
              "      <td>0.001028</td>\n",
              "      <td>-0.001524</td>\n",
              "      <td>-0.000568</td>\n",
              "      <td>-0.002663</td>\n",
              "      <td>-0.000602</td>\n",
              "      <td>-0.003345</td>\n",
              "      <td>-0.003491</td>\n",
              "      <td>-0.003535</td>\n",
              "      <td>0.000919</td>\n",
              "      <td>-0.001393</td>\n",
              "      <td>0.002818</td>\n",
              "      <td>-0.001436</td>\n",
              "      <td>-0.001330</td>\n",
              "      <td>-0.000723</td>\n",
              "      <td>-0.000222</td>\n",
              "      <td>-0.000684</td>\n",
              "      <td>-0.015706</td>\n",
              "      <td>-0.004861</td>\n",
              "      <td>-0.230105</td>\n",
              "      <td>-0.094486</td>\n",
              "    </tr>\n",
              "    <tr>\n",
              "      <th>V2</th>\n",
              "      <td>-0.010556</td>\n",
              "      <td>0.006875</td>\n",
              "      <td>1.000000</td>\n",
              "      <td>0.005278</td>\n",
              "      <td>-0.001495</td>\n",
              "      <td>0.005210</td>\n",
              "      <td>-0.000594</td>\n",
              "      <td>0.007425</td>\n",
              "      <td>0.002899</td>\n",
              "      <td>-0.000274</td>\n",
              "      <td>0.000620</td>\n",
              "      <td>-0.000633</td>\n",
              "      <td>0.002266</td>\n",
              "      <td>0.000680</td>\n",
              "      <td>0.002711</td>\n",
              "      <td>0.001538</td>\n",
              "      <td>0.004013</td>\n",
              "      <td>0.003244</td>\n",
              "      <td>0.002477</td>\n",
              "      <td>-0.000358</td>\n",
              "      <td>-0.001287</td>\n",
              "      <td>-0.004897</td>\n",
              "      <td>0.001237</td>\n",
              "      <td>-0.003855</td>\n",
              "      <td>0.000701</td>\n",
              "      <td>-0.001569</td>\n",
              "      <td>0.000253</td>\n",
              "      <td>0.007555</td>\n",
              "      <td>0.001611</td>\n",
              "      <td>-0.533428</td>\n",
              "      <td>0.084624</td>\n",
              "    </tr>\n",
              "    <tr>\n",
              "      <th>V3</th>\n",
              "      <td>-0.422054</td>\n",
              "      <td>-0.008112</td>\n",
              "      <td>0.005278</td>\n",
              "      <td>1.000000</td>\n",
              "      <td>0.002829</td>\n",
              "      <td>-0.006879</td>\n",
              "      <td>-0.001511</td>\n",
              "      <td>-0.011721</td>\n",
              "      <td>-0.001815</td>\n",
              "      <td>-0.003579</td>\n",
              "      <td>-0.009632</td>\n",
              "      <td>0.002339</td>\n",
              "      <td>-0.005900</td>\n",
              "      <td>0.000113</td>\n",
              "      <td>-0.003027</td>\n",
              "      <td>-0.001230</td>\n",
              "      <td>-0.004430</td>\n",
              "      <td>-0.008159</td>\n",
              "      <td>-0.003495</td>\n",
              "      <td>-0.000016</td>\n",
              "      <td>-0.002269</td>\n",
              "      <td>0.003500</td>\n",
              "      <td>-0.000275</td>\n",
              "      <td>0.000449</td>\n",
              "      <td>-0.000072</td>\n",
              "      <td>0.000425</td>\n",
              "      <td>-0.000094</td>\n",
              "      <td>-0.007051</td>\n",
              "      <td>-0.000134</td>\n",
              "      <td>-0.212410</td>\n",
              "      <td>-0.182322</td>\n",
              "    </tr>\n",
              "    <tr>\n",
              "      <th>V4</th>\n",
              "      <td>-0.105845</td>\n",
              "      <td>0.002257</td>\n",
              "      <td>-0.001495</td>\n",
              "      <td>0.002829</td>\n",
              "      <td>1.000000</td>\n",
              "      <td>0.001744</td>\n",
              "      <td>-0.000880</td>\n",
              "      <td>0.004657</td>\n",
              "      <td>0.000890</td>\n",
              "      <td>0.002154</td>\n",
              "      <td>0.002753</td>\n",
              "      <td>-0.001223</td>\n",
              "      <td>0.003366</td>\n",
              "      <td>0.000177</td>\n",
              "      <td>0.002801</td>\n",
              "      <td>0.000572</td>\n",
              "      <td>0.003346</td>\n",
              "      <td>0.003655</td>\n",
              "      <td>0.002325</td>\n",
              "      <td>-0.000560</td>\n",
              "      <td>0.000318</td>\n",
              "      <td>-0.001034</td>\n",
              "      <td>0.000115</td>\n",
              "      <td>0.000732</td>\n",
              "      <td>-0.000120</td>\n",
              "      <td>0.000162</td>\n",
              "      <td>0.000777</td>\n",
              "      <td>0.001322</td>\n",
              "      <td>0.000231</td>\n",
              "      <td>0.099514</td>\n",
              "      <td>0.129326</td>\n",
              "    </tr>\n",
              "    <tr>\n",
              "      <th>V5</th>\n",
              "      <td>0.173223</td>\n",
              "      <td>-0.007036</td>\n",
              "      <td>0.005210</td>\n",
              "      <td>-0.006879</td>\n",
              "      <td>0.001744</td>\n",
              "      <td>1.000000</td>\n",
              "      <td>-0.000938</td>\n",
              "      <td>-0.008709</td>\n",
              "      <td>0.001430</td>\n",
              "      <td>-0.001213</td>\n",
              "      <td>-0.006050</td>\n",
              "      <td>0.000411</td>\n",
              "      <td>-0.002342</td>\n",
              "      <td>0.000019</td>\n",
              "      <td>-0.001000</td>\n",
              "      <td>-0.001171</td>\n",
              "      <td>-0.002373</td>\n",
              "      <td>-0.004466</td>\n",
              "      <td>-0.002685</td>\n",
              "      <td>0.000436</td>\n",
              "      <td>-0.001185</td>\n",
              "      <td>0.001622</td>\n",
              "      <td>-0.000559</td>\n",
              "      <td>0.001183</td>\n",
              "      <td>0.000198</td>\n",
              "      <td>0.000069</td>\n",
              "      <td>0.000390</td>\n",
              "      <td>-0.005798</td>\n",
              "      <td>-0.000820</td>\n",
              "      <td>-0.387685</td>\n",
              "      <td>-0.087812</td>\n",
              "    </tr>\n",
              "    <tr>\n",
              "      <th>V6</th>\n",
              "      <td>-0.063279</td>\n",
              "      <td>0.000413</td>\n",
              "      <td>-0.000594</td>\n",
              "      <td>-0.001511</td>\n",
              "      <td>-0.000880</td>\n",
              "      <td>-0.000938</td>\n",
              "      <td>1.000000</td>\n",
              "      <td>0.000436</td>\n",
              "      <td>0.003036</td>\n",
              "      <td>-0.000734</td>\n",
              "      <td>-0.002180</td>\n",
              "      <td>-0.000211</td>\n",
              "      <td>-0.001185</td>\n",
              "      <td>0.000397</td>\n",
              "      <td>0.000184</td>\n",
              "      <td>-0.000470</td>\n",
              "      <td>0.000122</td>\n",
              "      <td>-0.001716</td>\n",
              "      <td>0.000541</td>\n",
              "      <td>0.000106</td>\n",
              "      <td>-0.000181</td>\n",
              "      <td>-0.002134</td>\n",
              "      <td>0.001104</td>\n",
              "      <td>-0.000755</td>\n",
              "      <td>0.001202</td>\n",
              "      <td>0.000697</td>\n",
              "      <td>-0.000028</td>\n",
              "      <td>0.000289</td>\n",
              "      <td>0.000925</td>\n",
              "      <td>0.216389</td>\n",
              "      <td>-0.043915</td>\n",
              "    </tr>\n",
              "    <tr>\n",
              "      <th>V7</th>\n",
              "      <td>0.085335</td>\n",
              "      <td>-0.009173</td>\n",
              "      <td>0.007425</td>\n",
              "      <td>-0.011721</td>\n",
              "      <td>0.004657</td>\n",
              "      <td>-0.008709</td>\n",
              "      <td>0.000436</td>\n",
              "      <td>1.000000</td>\n",
              "      <td>-0.006419</td>\n",
              "      <td>-0.004921</td>\n",
              "      <td>-0.013617</td>\n",
              "      <td>0.002454</td>\n",
              "      <td>-0.006153</td>\n",
              "      <td>-0.000170</td>\n",
              "      <td>-0.003816</td>\n",
              "      <td>-0.001394</td>\n",
              "      <td>-0.005944</td>\n",
              "      <td>-0.008794</td>\n",
              "      <td>-0.004279</td>\n",
              "      <td>0.000846</td>\n",
              "      <td>-0.001192</td>\n",
              "      <td>0.009010</td>\n",
              "      <td>-0.002280</td>\n",
              "      <td>0.003303</td>\n",
              "      <td>-0.000384</td>\n",
              "      <td>-0.000072</td>\n",
              "      <td>0.000624</td>\n",
              "      <td>-0.004537</td>\n",
              "      <td>0.001657</td>\n",
              "      <td>0.400408</td>\n",
              "      <td>-0.172347</td>\n",
              "    </tr>\n",
              "    <tr>\n",
              "      <th>V8</th>\n",
              "      <td>-0.038203</td>\n",
              "      <td>-0.001168</td>\n",
              "      <td>0.002899</td>\n",
              "      <td>-0.001815</td>\n",
              "      <td>0.000890</td>\n",
              "      <td>0.001430</td>\n",
              "      <td>0.003036</td>\n",
              "      <td>-0.006419</td>\n",
              "      <td>1.000000</td>\n",
              "      <td>0.001038</td>\n",
              "      <td>0.000481</td>\n",
              "      <td>0.004688</td>\n",
              "      <td>-0.004414</td>\n",
              "      <td>-0.001381</td>\n",
              "      <td>-0.008387</td>\n",
              "      <td>0.001044</td>\n",
              "      <td>-0.004376</td>\n",
              "      <td>-0.005576</td>\n",
              "      <td>-0.001323</td>\n",
              "      <td>-0.000626</td>\n",
              "      <td>0.000271</td>\n",
              "      <td>0.018892</td>\n",
              "      <td>-0.006156</td>\n",
              "      <td>0.004994</td>\n",
              "      <td>0.000113</td>\n",
              "      <td>0.000011</td>\n",
              "      <td>-0.001407</td>\n",
              "      <td>0.000613</td>\n",
              "      <td>-0.000099</td>\n",
              "      <td>-0.104662</td>\n",
              "      <td>0.033068</td>\n",
              "    </tr>\n",
              "    <tr>\n",
              "      <th>V9</th>\n",
              "      <td>-0.007861</td>\n",
              "      <td>0.001828</td>\n",
              "      <td>-0.000274</td>\n",
              "      <td>-0.003579</td>\n",
              "      <td>0.002154</td>\n",
              "      <td>-0.001213</td>\n",
              "      <td>-0.000734</td>\n",
              "      <td>-0.004921</td>\n",
              "      <td>0.001038</td>\n",
              "      <td>1.000000</td>\n",
              "      <td>-0.012613</td>\n",
              "      <td>-0.000217</td>\n",
              "      <td>-0.002385</td>\n",
              "      <td>0.000745</td>\n",
              "      <td>0.001981</td>\n",
              "      <td>-0.000283</td>\n",
              "      <td>-0.000086</td>\n",
              "      <td>-0.002318</td>\n",
              "      <td>-0.000373</td>\n",
              "      <td>0.000247</td>\n",
              "      <td>-0.001838</td>\n",
              "      <td>0.000679</td>\n",
              "      <td>0.000785</td>\n",
              "      <td>0.000677</td>\n",
              "      <td>-0.000103</td>\n",
              "      <td>-0.000275</td>\n",
              "      <td>0.001253</td>\n",
              "      <td>0.008221</td>\n",
              "      <td>0.005591</td>\n",
              "      <td>-0.044123</td>\n",
              "      <td>-0.094021</td>\n",
              "    </tr>\n",
              "    <tr>\n",
              "      <th>V10</th>\n",
              "      <td>0.031068</td>\n",
              "      <td>0.000815</td>\n",
              "      <td>0.000620</td>\n",
              "      <td>-0.009632</td>\n",
              "      <td>0.002753</td>\n",
              "      <td>-0.006050</td>\n",
              "      <td>-0.002180</td>\n",
              "      <td>-0.013617</td>\n",
              "      <td>0.000481</td>\n",
              "      <td>-0.012613</td>\n",
              "      <td>1.000000</td>\n",
              "      <td>0.000844</td>\n",
              "      <td>-0.006942</td>\n",
              "      <td>0.001379</td>\n",
              "      <td>0.000168</td>\n",
              "      <td>-0.002293</td>\n",
              "      <td>-0.003715</td>\n",
              "      <td>-0.007877</td>\n",
              "      <td>-0.002450</td>\n",
              "      <td>0.001067</td>\n",
              "      <td>-0.004448</td>\n",
              "      <td>0.003777</td>\n",
              "      <td>-0.000481</td>\n",
              "      <td>0.001917</td>\n",
              "      <td>0.000154</td>\n",
              "      <td>-0.000565</td>\n",
              "      <td>0.001089</td>\n",
              "      <td>0.010769</td>\n",
              "      <td>0.009159</td>\n",
              "      <td>-0.102255</td>\n",
              "      <td>-0.206971</td>\n",
              "    </tr>\n",
              "    <tr>\n",
              "      <th>V11</th>\n",
              "      <td>-0.248536</td>\n",
              "      <td>0.001028</td>\n",
              "      <td>-0.000633</td>\n",
              "      <td>0.002339</td>\n",
              "      <td>-0.001223</td>\n",
              "      <td>0.000411</td>\n",
              "      <td>-0.000211</td>\n",
              "      <td>0.002454</td>\n",
              "      <td>0.004688</td>\n",
              "      <td>-0.000217</td>\n",
              "      <td>0.000844</td>\n",
              "      <td>1.000000</td>\n",
              "      <td>0.005569</td>\n",
              "      <td>0.000455</td>\n",
              "      <td>0.007713</td>\n",
              "      <td>-0.000872</td>\n",
              "      <td>0.004751</td>\n",
              "      <td>0.007353</td>\n",
              "      <td>0.002095</td>\n",
              "      <td>-0.000488</td>\n",
              "      <td>-0.000989</td>\n",
              "      <td>-0.002760</td>\n",
              "      <td>-0.000150</td>\n",
              "      <td>-0.000037</td>\n",
              "      <td>0.000080</td>\n",
              "      <td>0.000047</td>\n",
              "      <td>-0.000204</td>\n",
              "      <td>0.001987</td>\n",
              "      <td>0.002562</td>\n",
              "      <td>-0.000015</td>\n",
              "      <td>0.149067</td>\n",
              "    </tr>\n",
              "    <tr>\n",
              "      <th>V12</th>\n",
              "      <td>0.125500</td>\n",
              "      <td>-0.001524</td>\n",
              "      <td>0.002266</td>\n",
              "      <td>-0.005900</td>\n",
              "      <td>0.003366</td>\n",
              "      <td>-0.002342</td>\n",
              "      <td>-0.001185</td>\n",
              "      <td>-0.006153</td>\n",
              "      <td>-0.004414</td>\n",
              "      <td>-0.002385</td>\n",
              "      <td>-0.006942</td>\n",
              "      <td>0.005569</td>\n",
              "      <td>1.000000</td>\n",
              "      <td>-0.000550</td>\n",
              "      <td>-0.010007</td>\n",
              "      <td>0.000881</td>\n",
              "      <td>-0.007372</td>\n",
              "      <td>-0.012856</td>\n",
              "      <td>-0.003464</td>\n",
              "      <td>0.000593</td>\n",
              "      <td>0.001169</td>\n",
              "      <td>0.003285</td>\n",
              "      <td>0.000151</td>\n",
              "      <td>0.000486</td>\n",
              "      <td>0.000588</td>\n",
              "      <td>-0.000181</td>\n",
              "      <td>-0.000138</td>\n",
              "      <td>-0.000929</td>\n",
              "      <td>-0.000613</td>\n",
              "      <td>-0.009254</td>\n",
              "      <td>-0.250711</td>\n",
              "    </tr>\n",
              "    <tr>\n",
              "      <th>V13</th>\n",
              "      <td>-0.065958</td>\n",
              "      <td>-0.000568</td>\n",
              "      <td>0.000680</td>\n",
              "      <td>0.000113</td>\n",
              "      <td>0.000177</td>\n",
              "      <td>0.000019</td>\n",
              "      <td>0.000397</td>\n",
              "      <td>-0.000170</td>\n",
              "      <td>-0.001381</td>\n",
              "      <td>0.000745</td>\n",
              "      <td>0.001379</td>\n",
              "      <td>0.000455</td>\n",
              "      <td>-0.000550</td>\n",
              "      <td>1.000000</td>\n",
              "      <td>-0.001133</td>\n",
              "      <td>0.000234</td>\n",
              "      <td>-0.000807</td>\n",
              "      <td>-0.000170</td>\n",
              "      <td>-0.000155</td>\n",
              "      <td>0.000086</td>\n",
              "      <td>0.000379</td>\n",
              "      <td>0.000522</td>\n",
              "      <td>0.000016</td>\n",
              "      <td>0.000252</td>\n",
              "      <td>-0.000049</td>\n",
              "      <td>0.000248</td>\n",
              "      <td>-0.000101</td>\n",
              "      <td>-0.001577</td>\n",
              "      <td>-0.000604</td>\n",
              "      <td>0.005209</td>\n",
              "      <td>-0.003897</td>\n",
              "    </tr>\n",
              "    <tr>\n",
              "      <th>V14</th>\n",
              "      <td>-0.100316</td>\n",
              "      <td>-0.002663</td>\n",
              "      <td>0.002711</td>\n",
              "      <td>-0.003027</td>\n",
              "      <td>0.002801</td>\n",
              "      <td>-0.001000</td>\n",
              "      <td>0.000184</td>\n",
              "      <td>-0.003816</td>\n",
              "      <td>-0.008387</td>\n",
              "      <td>0.001981</td>\n",
              "      <td>0.000168</td>\n",
              "      <td>0.007713</td>\n",
              "      <td>-0.010007</td>\n",
              "      <td>-0.001133</td>\n",
              "      <td>1.000000</td>\n",
              "      <td>0.000866</td>\n",
              "      <td>-0.009074</td>\n",
              "      <td>-0.013551</td>\n",
              "      <td>-0.004483</td>\n",
              "      <td>0.001587</td>\n",
              "      <td>0.002726</td>\n",
              "      <td>0.005633</td>\n",
              "      <td>-0.001906</td>\n",
              "      <td>0.000666</td>\n",
              "      <td>-0.000026</td>\n",
              "      <td>0.000155</td>\n",
              "      <td>-0.000702</td>\n",
              "      <td>-0.004556</td>\n",
              "      <td>-0.004664</td>\n",
              "      <td>0.034122</td>\n",
              "      <td>-0.293375</td>\n",
              "    </tr>\n",
              "    <tr>\n",
              "      <th>V15</th>\n",
              "      <td>-0.184392</td>\n",
              "      <td>-0.000602</td>\n",
              "      <td>0.001538</td>\n",
              "      <td>-0.001230</td>\n",
              "      <td>0.000572</td>\n",
              "      <td>-0.001171</td>\n",
              "      <td>-0.000470</td>\n",
              "      <td>-0.001394</td>\n",
              "      <td>0.001044</td>\n",
              "      <td>-0.000283</td>\n",
              "      <td>-0.002293</td>\n",
              "      <td>-0.000872</td>\n",
              "      <td>0.000881</td>\n",
              "      <td>0.000234</td>\n",
              "      <td>0.000866</td>\n",
              "      <td>1.000000</td>\n",
              "      <td>-0.000283</td>\n",
              "      <td>-0.000174</td>\n",
              "      <td>-0.000426</td>\n",
              "      <td>0.000555</td>\n",
              "      <td>-0.000754</td>\n",
              "      <td>-0.000271</td>\n",
              "      <td>-0.001197</td>\n",
              "      <td>0.000969</td>\n",
              "      <td>0.000113</td>\n",
              "      <td>0.000445</td>\n",
              "      <td>-0.002034</td>\n",
              "      <td>-0.000641</td>\n",
              "      <td>0.000858</td>\n",
              "      <td>-0.003265</td>\n",
              "      <td>-0.003300</td>\n",
              "    </tr>\n",
              "    <tr>\n",
              "      <th>V16</th>\n",
              "      <td>0.011286</td>\n",
              "      <td>-0.003345</td>\n",
              "      <td>0.004013</td>\n",
              "      <td>-0.004430</td>\n",
              "      <td>0.003346</td>\n",
              "      <td>-0.002373</td>\n",
              "      <td>0.000122</td>\n",
              "      <td>-0.005944</td>\n",
              "      <td>-0.004376</td>\n",
              "      <td>-0.000086</td>\n",
              "      <td>-0.003715</td>\n",
              "      <td>0.004751</td>\n",
              "      <td>-0.007372</td>\n",
              "      <td>-0.000807</td>\n",
              "      <td>-0.009074</td>\n",
              "      <td>-0.000283</td>\n",
              "      <td>1.000000</td>\n",
              "      <td>-0.009063</td>\n",
              "      <td>-0.005427</td>\n",
              "      <td>0.002432</td>\n",
              "      <td>0.001067</td>\n",
              "      <td>0.004326</td>\n",
              "      <td>-0.000820</td>\n",
              "      <td>0.001209</td>\n",
              "      <td>-0.000482</td>\n",
              "      <td>0.000215</td>\n",
              "      <td>-0.001245</td>\n",
              "      <td>-0.003974</td>\n",
              "      <td>-0.001629</td>\n",
              "      <td>-0.004488</td>\n",
              "      <td>-0.187186</td>\n",
              "    </tr>\n",
              "    <tr>\n",
              "      <th>V17</th>\n",
              "      <td>-0.073819</td>\n",
              "      <td>-0.003491</td>\n",
              "      <td>0.003244</td>\n",
              "      <td>-0.008159</td>\n",
              "      <td>0.003655</td>\n",
              "      <td>-0.004466</td>\n",
              "      <td>-0.001716</td>\n",
              "      <td>-0.008794</td>\n",
              "      <td>-0.005576</td>\n",
              "      <td>-0.002318</td>\n",
              "      <td>-0.007877</td>\n",
              "      <td>0.007353</td>\n",
              "      <td>-0.012856</td>\n",
              "      <td>-0.000170</td>\n",
              "      <td>-0.013551</td>\n",
              "      <td>-0.000174</td>\n",
              "      <td>-0.009063</td>\n",
              "      <td>1.000000</td>\n",
              "      <td>-0.005277</td>\n",
              "      <td>0.000989</td>\n",
              "      <td>0.001518</td>\n",
              "      <td>0.003560</td>\n",
              "      <td>-0.000162</td>\n",
              "      <td>0.000667</td>\n",
              "      <td>0.001006</td>\n",
              "      <td>-0.000685</td>\n",
              "      <td>0.000157</td>\n",
              "      <td>-0.003421</td>\n",
              "      <td>-0.002703</td>\n",
              "      <td>0.007730</td>\n",
              "      <td>-0.313498</td>\n",
              "    </tr>\n",
              "    <tr>\n",
              "      <th>V18</th>\n",
              "      <td>0.090305</td>\n",
              "      <td>-0.003535</td>\n",
              "      <td>0.002477</td>\n",
              "      <td>-0.003495</td>\n",
              "      <td>0.002325</td>\n",
              "      <td>-0.002685</td>\n",
              "      <td>0.000541</td>\n",
              "      <td>-0.004279</td>\n",
              "      <td>-0.001323</td>\n",
              "      <td>-0.000373</td>\n",
              "      <td>-0.002450</td>\n",
              "      <td>0.002095</td>\n",
              "      <td>-0.003464</td>\n",
              "      <td>-0.000155</td>\n",
              "      <td>-0.004483</td>\n",
              "      <td>-0.000426</td>\n",
              "      <td>-0.005427</td>\n",
              "      <td>-0.005277</td>\n",
              "      <td>1.000000</td>\n",
              "      <td>-0.000100</td>\n",
              "      <td>-0.000245</td>\n",
              "      <td>0.001629</td>\n",
              "      <td>-0.000533</td>\n",
              "      <td>0.000240</td>\n",
              "      <td>-0.000710</td>\n",
              "      <td>-0.000559</td>\n",
              "      <td>-0.000596</td>\n",
              "      <td>-0.004231</td>\n",
              "      <td>-0.001256</td>\n",
              "      <td>0.035775</td>\n",
              "      <td>-0.105340</td>\n",
              "    </tr>\n",
              "    <tr>\n",
              "      <th>V19</th>\n",
              "      <td>0.029537</td>\n",
              "      <td>0.000919</td>\n",
              "      <td>-0.000358</td>\n",
              "      <td>-0.000016</td>\n",
              "      <td>-0.000560</td>\n",
              "      <td>0.000436</td>\n",
              "      <td>0.000106</td>\n",
              "      <td>0.000846</td>\n",
              "      <td>-0.000626</td>\n",
              "      <td>0.000247</td>\n",
              "      <td>0.001067</td>\n",
              "      <td>-0.000488</td>\n",
              "      <td>0.000593</td>\n",
              "      <td>0.000086</td>\n",
              "      <td>0.001587</td>\n",
              "      <td>0.000555</td>\n",
              "      <td>0.002432</td>\n",
              "      <td>0.000989</td>\n",
              "      <td>-0.000100</td>\n",
              "      <td>1.000000</td>\n",
              "      <td>-0.000269</td>\n",
              "      <td>0.000244</td>\n",
              "      <td>0.001342</td>\n",
              "      <td>0.000381</td>\n",
              "      <td>-0.000112</td>\n",
              "      <td>-0.000084</td>\n",
              "      <td>0.000856</td>\n",
              "      <td>-0.000544</td>\n",
              "      <td>0.000353</td>\n",
              "      <td>-0.055994</td>\n",
              "      <td>0.033631</td>\n",
              "    </tr>\n",
              "    <tr>\n",
              "      <th>V20</th>\n",
              "      <td>-0.051022</td>\n",
              "      <td>-0.001393</td>\n",
              "      <td>-0.001287</td>\n",
              "      <td>-0.002269</td>\n",
              "      <td>0.000318</td>\n",
              "      <td>-0.001185</td>\n",
              "      <td>-0.000181</td>\n",
              "      <td>-0.001192</td>\n",
              "      <td>0.000271</td>\n",
              "      <td>-0.001838</td>\n",
              "      <td>-0.004448</td>\n",
              "      <td>-0.000989</td>\n",
              "      <td>0.001169</td>\n",
              "      <td>0.000379</td>\n",
              "      <td>0.002726</td>\n",
              "      <td>-0.000754</td>\n",
              "      <td>0.001067</td>\n",
              "      <td>0.001518</td>\n",
              "      <td>-0.000245</td>\n",
              "      <td>-0.000269</td>\n",
              "      <td>1.000000</td>\n",
              "      <td>0.005372</td>\n",
              "      <td>-0.001617</td>\n",
              "      <td>-0.001094</td>\n",
              "      <td>-0.000303</td>\n",
              "      <td>-0.000643</td>\n",
              "      <td>-0.000310</td>\n",
              "      <td>-0.000049</td>\n",
              "      <td>0.002671</td>\n",
              "      <td>0.340729</td>\n",
              "      <td>0.021486</td>\n",
              "    </tr>\n",
              "    <tr>\n",
              "      <th>V21</th>\n",
              "      <td>0.045913</td>\n",
              "      <td>0.002818</td>\n",
              "      <td>-0.004897</td>\n",
              "      <td>0.003500</td>\n",
              "      <td>-0.001034</td>\n",
              "      <td>0.001622</td>\n",
              "      <td>-0.002134</td>\n",
              "      <td>0.009010</td>\n",
              "      <td>0.018892</td>\n",
              "      <td>0.000679</td>\n",
              "      <td>0.003777</td>\n",
              "      <td>-0.002760</td>\n",
              "      <td>0.003285</td>\n",
              "      <td>0.000522</td>\n",
              "      <td>0.005633</td>\n",
              "      <td>-0.000271</td>\n",
              "      <td>0.004326</td>\n",
              "      <td>0.003560</td>\n",
              "      <td>0.001629</td>\n",
              "      <td>0.000244</td>\n",
              "      <td>0.005372</td>\n",
              "      <td>1.000000</td>\n",
              "      <td>0.009645</td>\n",
              "      <td>-0.006391</td>\n",
              "      <td>0.001210</td>\n",
              "      <td>-0.000872</td>\n",
              "      <td>-0.000874</td>\n",
              "      <td>-0.005216</td>\n",
              "      <td>-0.004436</td>\n",
              "      <td>0.108058</td>\n",
              "      <td>0.026357</td>\n",
              "    </tr>\n",
              "    <tr>\n",
              "      <th>V22</th>\n",
              "      <td>0.143727</td>\n",
              "      <td>-0.001436</td>\n",
              "      <td>0.001237</td>\n",
              "      <td>-0.000275</td>\n",
              "      <td>0.000115</td>\n",
              "      <td>-0.000559</td>\n",
              "      <td>0.001104</td>\n",
              "      <td>-0.002280</td>\n",
              "      <td>-0.006156</td>\n",
              "      <td>0.000785</td>\n",
              "      <td>-0.000481</td>\n",
              "      <td>-0.000150</td>\n",
              "      <td>0.000151</td>\n",
              "      <td>0.000016</td>\n",
              "      <td>-0.001906</td>\n",
              "      <td>-0.001197</td>\n",
              "      <td>-0.000820</td>\n",
              "      <td>-0.000162</td>\n",
              "      <td>-0.000533</td>\n",
              "      <td>0.001342</td>\n",
              "      <td>-0.001617</td>\n",
              "      <td>0.009645</td>\n",
              "      <td>1.000000</td>\n",
              "      <td>0.001929</td>\n",
              "      <td>-0.000031</td>\n",
              "      <td>0.000197</td>\n",
              "      <td>-0.001495</td>\n",
              "      <td>0.003037</td>\n",
              "      <td>0.001392</td>\n",
              "      <td>-0.064965</td>\n",
              "      <td>0.004887</td>\n",
              "    </tr>\n",
              "    <tr>\n",
              "      <th>V23</th>\n",
              "      <td>0.051474</td>\n",
              "      <td>-0.001330</td>\n",
              "      <td>-0.003855</td>\n",
              "      <td>0.000449</td>\n",
              "      <td>0.000732</td>\n",
              "      <td>0.001183</td>\n",
              "      <td>-0.000755</td>\n",
              "      <td>0.003303</td>\n",
              "      <td>0.004994</td>\n",
              "      <td>0.000677</td>\n",
              "      <td>0.001917</td>\n",
              "      <td>-0.000037</td>\n",
              "      <td>0.000486</td>\n",
              "      <td>0.000252</td>\n",
              "      <td>0.000666</td>\n",
              "      <td>0.000969</td>\n",
              "      <td>0.001209</td>\n",
              "      <td>0.000667</td>\n",
              "      <td>0.000240</td>\n",
              "      <td>0.000381</td>\n",
              "      <td>-0.001094</td>\n",
              "      <td>-0.006391</td>\n",
              "      <td>0.001929</td>\n",
              "      <td>1.000000</td>\n",
              "      <td>0.000273</td>\n",
              "      <td>-0.000532</td>\n",
              "      <td>-0.000185</td>\n",
              "      <td>-0.002028</td>\n",
              "      <td>-0.003224</td>\n",
              "      <td>-0.112833</td>\n",
              "      <td>-0.006333</td>\n",
              "    </tr>\n",
              "    <tr>\n",
              "      <th>V24</th>\n",
              "      <td>-0.015954</td>\n",
              "      <td>-0.000723</td>\n",
              "      <td>0.000701</td>\n",
              "      <td>-0.000072</td>\n",
              "      <td>-0.000120</td>\n",
              "      <td>0.000198</td>\n",
              "      <td>0.001202</td>\n",
              "      <td>-0.000384</td>\n",
              "      <td>0.000113</td>\n",
              "      <td>-0.000103</td>\n",
              "      <td>0.000154</td>\n",
              "      <td>0.000080</td>\n",
              "      <td>0.000588</td>\n",
              "      <td>-0.000049</td>\n",
              "      <td>-0.000026</td>\n",
              "      <td>0.000113</td>\n",
              "      <td>-0.000482</td>\n",
              "      <td>0.001006</td>\n",
              "      <td>-0.000710</td>\n",
              "      <td>-0.000112</td>\n",
              "      <td>-0.000303</td>\n",
              "      <td>0.001210</td>\n",
              "      <td>-0.000031</td>\n",
              "      <td>0.000273</td>\n",
              "      <td>1.000000</td>\n",
              "      <td>-0.000188</td>\n",
              "      <td>0.000568</td>\n",
              "      <td>-0.000885</td>\n",
              "      <td>0.000322</td>\n",
              "      <td>0.005055</td>\n",
              "      <td>-0.007210</td>\n",
              "    </tr>\n",
              "    <tr>\n",
              "      <th>V25</th>\n",
              "      <td>-0.233262</td>\n",
              "      <td>-0.000222</td>\n",
              "      <td>-0.001569</td>\n",
              "      <td>0.000425</td>\n",
              "      <td>0.000162</td>\n",
              "      <td>0.000069</td>\n",
              "      <td>0.000697</td>\n",
              "      <td>-0.000072</td>\n",
              "      <td>0.000011</td>\n",
              "      <td>-0.000275</td>\n",
              "      <td>-0.000565</td>\n",
              "      <td>0.000047</td>\n",
              "      <td>-0.000181</td>\n",
              "      <td>0.000248</td>\n",
              "      <td>0.000155</td>\n",
              "      <td>0.000445</td>\n",
              "      <td>0.000215</td>\n",
              "      <td>-0.000685</td>\n",
              "      <td>-0.000559</td>\n",
              "      <td>-0.000084</td>\n",
              "      <td>-0.000643</td>\n",
              "      <td>-0.000872</td>\n",
              "      <td>0.000197</td>\n",
              "      <td>-0.000532</td>\n",
              "      <td>-0.000188</td>\n",
              "      <td>1.000000</td>\n",
              "      <td>0.000048</td>\n",
              "      <td>-0.001339</td>\n",
              "      <td>-0.000565</td>\n",
              "      <td>-0.047596</td>\n",
              "      <td>0.003202</td>\n",
              "    </tr>\n",
              "    <tr>\n",
              "      <th>V26</th>\n",
              "      <td>-0.041818</td>\n",
              "      <td>-0.000684</td>\n",
              "      <td>0.000253</td>\n",
              "      <td>-0.000094</td>\n",
              "      <td>0.000777</td>\n",
              "      <td>0.000390</td>\n",
              "      <td>-0.000028</td>\n",
              "      <td>0.000624</td>\n",
              "      <td>-0.001407</td>\n",
              "      <td>0.001253</td>\n",
              "      <td>0.001089</td>\n",
              "      <td>-0.000204</td>\n",
              "      <td>-0.000138</td>\n",
              "      <td>-0.000101</td>\n",
              "      <td>-0.000702</td>\n",
              "      <td>-0.002034</td>\n",
              "      <td>-0.001245</td>\n",
              "      <td>0.000157</td>\n",
              "      <td>-0.000596</td>\n",
              "      <td>0.000856</td>\n",
              "      <td>-0.000310</td>\n",
              "      <td>-0.000874</td>\n",
              "      <td>-0.001495</td>\n",
              "      <td>-0.000185</td>\n",
              "      <td>0.000568</td>\n",
              "      <td>0.000048</td>\n",
              "      <td>1.000000</td>\n",
              "      <td>-0.003294</td>\n",
              "      <td>-0.000999</td>\n",
              "      <td>-0.003425</td>\n",
              "      <td>0.004265</td>\n",
              "    </tr>\n",
              "    <tr>\n",
              "      <th>V27</th>\n",
              "      <td>-0.005171</td>\n",
              "      <td>-0.015706</td>\n",
              "      <td>0.007555</td>\n",
              "      <td>-0.007051</td>\n",
              "      <td>0.001322</td>\n",
              "      <td>-0.005798</td>\n",
              "      <td>0.000289</td>\n",
              "      <td>-0.004537</td>\n",
              "      <td>0.000613</td>\n",
              "      <td>0.008221</td>\n",
              "      <td>0.010769</td>\n",
              "      <td>0.001987</td>\n",
              "      <td>-0.000929</td>\n",
              "      <td>-0.001577</td>\n",
              "      <td>-0.004556</td>\n",
              "      <td>-0.000641</td>\n",
              "      <td>-0.003974</td>\n",
              "      <td>-0.003421</td>\n",
              "      <td>-0.004231</td>\n",
              "      <td>-0.000544</td>\n",
              "      <td>-0.000049</td>\n",
              "      <td>-0.005216</td>\n",
              "      <td>0.003037</td>\n",
              "      <td>-0.002028</td>\n",
              "      <td>-0.000885</td>\n",
              "      <td>-0.001339</td>\n",
              "      <td>-0.003294</td>\n",
              "      <td>1.000000</td>\n",
              "      <td>-0.013950</td>\n",
              "      <td>0.027922</td>\n",
              "      <td>0.021892</td>\n",
              "    </tr>\n",
              "    <tr>\n",
              "      <th>V28</th>\n",
              "      <td>-0.009305</td>\n",
              "      <td>-0.004861</td>\n",
              "      <td>0.001611</td>\n",
              "      <td>-0.000134</td>\n",
              "      <td>0.000231</td>\n",
              "      <td>-0.000820</td>\n",
              "      <td>0.000925</td>\n",
              "      <td>0.001657</td>\n",
              "      <td>-0.000099</td>\n",
              "      <td>0.005591</td>\n",
              "      <td>0.009159</td>\n",
              "      <td>0.002562</td>\n",
              "      <td>-0.000613</td>\n",
              "      <td>-0.000604</td>\n",
              "      <td>-0.004664</td>\n",
              "      <td>0.000858</td>\n",
              "      <td>-0.001629</td>\n",
              "      <td>-0.002703</td>\n",
              "      <td>-0.001256</td>\n",
              "      <td>0.000353</td>\n",
              "      <td>0.002671</td>\n",
              "      <td>-0.004436</td>\n",
              "      <td>0.001392</td>\n",
              "      <td>-0.003224</td>\n",
              "      <td>0.000322</td>\n",
              "      <td>-0.000565</td>\n",
              "      <td>-0.000999</td>\n",
              "      <td>-0.013950</td>\n",
              "      <td>1.000000</td>\n",
              "      <td>0.010143</td>\n",
              "      <td>0.009682</td>\n",
              "    </tr>\n",
              "    <tr>\n",
              "      <th>Amount</th>\n",
              "      <td>-0.010559</td>\n",
              "      <td>-0.230105</td>\n",
              "      <td>-0.533428</td>\n",
              "      <td>-0.212410</td>\n",
              "      <td>0.099514</td>\n",
              "      <td>-0.387685</td>\n",
              "      <td>0.216389</td>\n",
              "      <td>0.400408</td>\n",
              "      <td>-0.104662</td>\n",
              "      <td>-0.044123</td>\n",
              "      <td>-0.102255</td>\n",
              "      <td>-0.000015</td>\n",
              "      <td>-0.009254</td>\n",
              "      <td>0.005209</td>\n",
              "      <td>0.034122</td>\n",
              "      <td>-0.003265</td>\n",
              "      <td>-0.004488</td>\n",
              "      <td>0.007730</td>\n",
              "      <td>0.035775</td>\n",
              "      <td>-0.055994</td>\n",
              "      <td>0.340729</td>\n",
              "      <td>0.108058</td>\n",
              "      <td>-0.064965</td>\n",
              "      <td>-0.112833</td>\n",
              "      <td>0.005055</td>\n",
              "      <td>-0.047596</td>\n",
              "      <td>-0.003425</td>\n",
              "      <td>0.027922</td>\n",
              "      <td>0.010143</td>\n",
              "      <td>1.000000</td>\n",
              "      <td>0.005777</td>\n",
              "    </tr>\n",
              "    <tr>\n",
              "      <th>Class</th>\n",
              "      <td>-0.012359</td>\n",
              "      <td>-0.094486</td>\n",
              "      <td>0.084624</td>\n",
              "      <td>-0.182322</td>\n",
              "      <td>0.129326</td>\n",
              "      <td>-0.087812</td>\n",
              "      <td>-0.043915</td>\n",
              "      <td>-0.172347</td>\n",
              "      <td>0.033068</td>\n",
              "      <td>-0.094021</td>\n",
              "      <td>-0.206971</td>\n",
              "      <td>0.149067</td>\n",
              "      <td>-0.250711</td>\n",
              "      <td>-0.003897</td>\n",
              "      <td>-0.293375</td>\n",
              "      <td>-0.003300</td>\n",
              "      <td>-0.187186</td>\n",
              "      <td>-0.313498</td>\n",
              "      <td>-0.105340</td>\n",
              "      <td>0.033631</td>\n",
              "      <td>0.021486</td>\n",
              "      <td>0.026357</td>\n",
              "      <td>0.004887</td>\n",
              "      <td>-0.006333</td>\n",
              "      <td>-0.007210</td>\n",
              "      <td>0.003202</td>\n",
              "      <td>0.004265</td>\n",
              "      <td>0.021892</td>\n",
              "      <td>0.009682</td>\n",
              "      <td>0.005777</td>\n",
              "      <td>1.000000</td>\n",
              "    </tr>\n",
              "  </tbody>\n",
              "</table>\n",
              "</div>"
            ],
            "text/plain": [
              "            Time        V1        V2  ...       V28    Amount     Class\n",
              "Time    1.000000  0.117927 -0.010556  ... -0.009305 -0.010559 -0.012359\n",
              "V1      0.117927  1.000000  0.006875  ... -0.004861 -0.230105 -0.094486\n",
              "V2     -0.010556  0.006875  1.000000  ...  0.001611 -0.533428  0.084624\n",
              "V3     -0.422054 -0.008112  0.005278  ... -0.000134 -0.212410 -0.182322\n",
              "V4     -0.105845  0.002257 -0.001495  ...  0.000231  0.099514  0.129326\n",
              "V5      0.173223 -0.007036  0.005210  ... -0.000820 -0.387685 -0.087812\n",
              "V6     -0.063279  0.000413 -0.000594  ...  0.000925  0.216389 -0.043915\n",
              "V7      0.085335 -0.009173  0.007425  ...  0.001657  0.400408 -0.172347\n",
              "V8     -0.038203 -0.001168  0.002899  ... -0.000099 -0.104662  0.033068\n",
              "V9     -0.007861  0.001828 -0.000274  ...  0.005591 -0.044123 -0.094021\n",
              "V10     0.031068  0.000815  0.000620  ...  0.009159 -0.102255 -0.206971\n",
              "V11    -0.248536  0.001028 -0.000633  ...  0.002562 -0.000015  0.149067\n",
              "V12     0.125500 -0.001524  0.002266  ... -0.000613 -0.009254 -0.250711\n",
              "V13    -0.065958 -0.000568  0.000680  ... -0.000604  0.005209 -0.003897\n",
              "V14    -0.100316 -0.002663  0.002711  ... -0.004664  0.034122 -0.293375\n",
              "V15    -0.184392 -0.000602  0.001538  ...  0.000858 -0.003265 -0.003300\n",
              "V16     0.011286 -0.003345  0.004013  ... -0.001629 -0.004488 -0.187186\n",
              "V17    -0.073819 -0.003491  0.003244  ... -0.002703  0.007730 -0.313498\n",
              "V18     0.090305 -0.003535  0.002477  ... -0.001256  0.035775 -0.105340\n",
              "V19     0.029537  0.000919 -0.000358  ...  0.000353 -0.055994  0.033631\n",
              "V20    -0.051022 -0.001393 -0.001287  ...  0.002671  0.340729  0.021486\n",
              "V21     0.045913  0.002818 -0.004897  ... -0.004436  0.108058  0.026357\n",
              "V22     0.143727 -0.001436  0.001237  ...  0.001392 -0.064965  0.004887\n",
              "V23     0.051474 -0.001330 -0.003855  ... -0.003224 -0.112833 -0.006333\n",
              "V24    -0.015954 -0.000723  0.000701  ...  0.000322  0.005055 -0.007210\n",
              "V25    -0.233262 -0.000222 -0.001569  ... -0.000565 -0.047596  0.003202\n",
              "V26    -0.041818 -0.000684  0.000253  ... -0.000999 -0.003425  0.004265\n",
              "V27    -0.005171 -0.015706  0.007555  ... -0.013950  0.027922  0.021892\n",
              "V28    -0.009305 -0.004861  0.001611  ...  1.000000  0.010143  0.009682\n",
              "Amount -0.010559 -0.230105 -0.533428  ...  0.010143  1.000000  0.005777\n",
              "Class  -0.012359 -0.094486  0.084624  ...  0.009682  0.005777  1.000000\n",
              "\n",
              "[31 rows x 31 columns]"
            ]
          },
          "metadata": {},
          "execution_count": 126
        }
      ]
    },
    {
      "cell_type": "code",
      "metadata": {
        "colab": {
          "base_uri": "https://localhost:8080/",
          "height": 570
        },
        "id": "205e84d4",
        "outputId": "df5b70b9-0df4-4b6e-ec2e-e4fc45c11955"
      },
      "source": [
        "visual=plt.figure(figsize=(12,9))\n",
        "sns.heatmap(data.corr(),vmax=1,square=True)\n",
        "plt.show()"
      ],
      "id": "205e84d4",
      "execution_count": 127,
      "outputs": [
        {
          "output_type": "display_data",
          "data": {
            "image/png": "[encoded data removed]",
            "text/plain": [
              "<Figure size 864x648 with 2 Axes>"
            ]
          },
          "metadata": {
            "needs_background": "light"
          }
        }
      ]
    },
    {
      "cell_type": "markdown",
      "metadata": {
        "id": "d4ac778e"
      },
      "source": [
        "**Lighter shades indicates positive correlation.**\n",
        "\n",
        "**Dark Shades indicates negative correlation.**"
      ],
      "id": "d4ac778e"
    },
    {
      "cell_type": "markdown",
      "metadata": {
        "id": "983cb9bb"
      },
      "source": [
        "# 05. Model Training."
      ],
      "id": "983cb9bb"
    },
    {
      "cell_type": "markdown",
      "metadata": {
        "id": "144c806a"
      },
      "source": [
        " **Training and Testing Data**\n"
      ],
      "id": "144c806a"
    },
    {
      "cell_type": "code",
      "metadata": {
        "id": "86644467"
      },
      "source": [
        "# Getting Features\n",
        "X=data.drop(columns='Class')\n",
        "Y=data['Class']"
      ],
      "id": "86644467",
      "execution_count": 128,
      "outputs": []
    },
    {
      "cell_type": "code",
      "metadata": {
        "colab": {
          "base_uri": "https://localhost:8080/"
        },
        "id": "a7d63675",
        "outputId": "e34d6c41-465c-400c-827c-a70fcb906b3d"
      },
      "source": [
        "#importing libraries\n",
        "from sklearn.model_selection import train_test_split\n",
        "from imblearn.under_sampling import RandomUnderSampler\n",
        "\n",
        "RS=RandomUnderSampler()\n",
        "x_us,y_us=RS.fit_resample(X , Y)\n",
        "x_train,x_test,y_train,y_test=train_test_split(x_us,y_us,test_size=0.3)"
      ],
      "id": "a7d63675",
      "execution_count": 129,
      "outputs": [
        {
          "output_type": "stream",
          "name": "stderr",
          "text": [
            "/usr/local/lib/python3.7/dist-packages/sklearn/utils/deprecation.py:87: FutureWarning: Function safe_indexing is deprecated; safe_indexing is deprecated in version 0.22 and will be removed in version 0.24.\n",
            "  warnings.warn(msg, category=FutureWarning)\n"
          ]
        }
      ]
    },
    {
      "cell_type": "code",
      "metadata": {
        "colab": {
          "base_uri": "https://localhost:8080/"
        },
        "id": "e8ca66fb",
        "outputId": "69eaf95e-bf08-4a46-b322-63e4ce29c9b9"
      },
      "source": [
        "len(x_train)"
      ],
      "id": "e8ca66fb",
      "execution_count": 130,
      "outputs": [
        {
          "output_type": "execute_result",
          "data": {
            "text/plain": [
              "662"
            ]
          },
          "metadata": {},
          "execution_count": 130
        }
      ]
    },
    {
      "cell_type": "code",
      "metadata": {
        "colab": {
          "base_uri": "https://localhost:8080/"
        },
        "id": "9d995132",
        "outputId": "862a47bc-596b-40f9-8adb-75af684a7bec"
      },
      "source": [
        "len(y_train)"
      ],
      "id": "9d995132",
      "execution_count": 131,
      "outputs": [
        {
          "output_type": "execute_result",
          "data": {
            "text/plain": [
              "662"
            ]
          },
          "metadata": {},
          "execution_count": 131
        }
      ]
    },
    {
      "cell_type": "code",
      "metadata": {
        "colab": {
          "base_uri": "https://localhost:8080/"
        },
        "id": "166ad3ea",
        "outputId": "42e5ac36-1878-48ba-9b04-3e1b0dedefec"
      },
      "source": [
        "len(x_test)"
      ],
      "id": "166ad3ea",
      "execution_count": 132,
      "outputs": [
        {
          "output_type": "execute_result",
          "data": {
            "text/plain": [
              "284"
            ]
          },
          "metadata": {},
          "execution_count": 132
        }
      ]
    },
    {
      "cell_type": "code",
      "metadata": {
        "colab": {
          "base_uri": "https://localhost:8080/"
        },
        "id": "4b7cb63d",
        "outputId": "258123a4-58ec-4b86-ec8e-4c05a3efa7e1"
      },
      "source": [
        "len(y_test)"
      ],
      "id": "4b7cb63d",
      "execution_count": 133,
      "outputs": [
        {
          "output_type": "execute_result",
          "data": {
            "text/plain": [
              "284"
            ]
          },
          "metadata": {},
          "execution_count": 133
        }
      ]
    },
    {
      "cell_type": "code",
      "metadata": {
        "id": "dffa2019"
      },
      "source": [
        "# Standard scaler"
      ],
      "id": "dffa2019",
      "execution_count": 134,
      "outputs": []
    },
    {
      "cell_type": "code",
      "metadata": {
        "colab": {
          "base_uri": "https://localhost:8080/"
        },
        "id": "e230cf1c",
        "outputId": "9ccc69fc-07b5-45ed-9aa3-139d02087e2b"
      },
      "source": [
        "from sklearn.preprocessing import StandardScaler\n",
        "std=StandardScaler()\n",
        "std.fit_transform(x_train)\n",
        "std.fit(x_test)"
      ],
      "id": "e230cf1c",
      "execution_count": 135,
      "outputs": [
        {
          "output_type": "execute_result",
          "data": {
            "text/plain": [
              "StandardScaler(copy=True, with_mean=True, with_std=True)"
            ]
          },
          "metadata": {},
          "execution_count": 135
        }
      ]
    },
    {
      "cell_type": "markdown",
      "metadata": {
        "id": "9a6d3ca9"
      },
      "source": [
        "**01.DECISION TREE**"
      ],
      "id": "9a6d3ca9"
    },
    {
      "cell_type": "code",
      "metadata": {
        "id": "23f9ccb3"
      },
      "source": [
        "## Decision tree\n",
        "from sklearn.tree import DecisionTreeClassifier\n",
        "from sklearn.model_selection import RandomizedSearchCV\n",
        "from sklearn.metrics import confusion_matrix,classification_report,accuracy_score\n",
        "\n",
        "dt=DecisionTreeClassifier()\n",
        "\n",
        "parameter={'criterion':['gini'],\n",
        "            'splitter': ['best','random'],\n",
        "           'max_depth':[2,10,20,25,40,None],\n",
        "           'min_samples_split':[2,4,5,10,12],\n",
        "           'min_samples_leaf':[1,2,3,6]}\n",
        "            \n",
        "rv=RandomizedSearchCV(dt,parameter)\n",
        "rv.fit(x_train,y_train)"
      ],
      "id": "23f9ccb3",
      "execution_count": null,
      "outputs": []
    },
    {
      "cell_type": "code",
      "metadata": {
        "colab": {
          "base_uri": "https://localhost:8080/"
        },
        "id": "0f48cc6d",
        "outputId": "f94281a9-57f2-4ab9-e0a6-eb8b8d09626a"
      },
      "source": [
        "rv.best_params_"
      ],
      "id": "0f48cc6d",
      "execution_count": 137,
      "outputs": [
        {
          "output_type": "execute_result",
          "data": {
            "text/plain": [
              "{'criterion': 'gini',\n",
              " 'max_depth': 2,\n",
              " 'min_samples_leaf': 3,\n",
              " 'min_samples_split': 10,\n",
              " 'splitter': 'best'}"
            ]
          },
          "metadata": {},
          "execution_count": 137
        }
      ]
    },
    {
      "cell_type": "code",
      "metadata": {
        "colab": {
          "base_uri": "https://localhost:8080/"
        },
        "id": "1f1c831a",
        "outputId": "596c2b56-d557-44ce-cf65-ddeb226df1d5"
      },
      "source": [
        "rv.best_score_"
      ],
      "id": "1f1c831a",
      "execution_count": 138,
      "outputs": [
        {
          "output_type": "execute_result",
          "data": {
            "text/plain": [
              "0.9108452950558213"
            ]
          },
          "metadata": {},
          "execution_count": 138
        }
      ]
    },
    {
      "cell_type": "code",
      "metadata": {
        "colab": {
          "base_uri": "https://localhost:8080/"
        },
        "id": "3a2921e4",
        "outputId": "22227298-65fa-4b0c-fe13-2b2e33353ca6"
      },
      "source": [
        "dt= DecisionTreeClassifier(splitter= 'random',\n",
        " min_samples_split= 10,\n",
        " min_samples_leaf= 2,\n",
        " max_depth= 40,\n",
        " criterion= 'gini'\n",
        ")\n",
        "dt.fit(x_train,y_train)"
      ],
      "id": "3a2921e4",
      "execution_count": 139,
      "outputs": [
        {
          "output_type": "execute_result",
          "data": {
            "text/plain": [
              "DecisionTreeClassifier(ccp_alpha=0.0, class_weight=None, criterion='gini',\n",
              "                       max_depth=40, max_features=None, max_leaf_nodes=None,\n",
              "                       min_impurity_decrease=0.0, min_impurity_split=None,\n",
              "                       min_samples_leaf=2, min_samples_split=10,\n",
              "                       min_weight_fraction_leaf=0.0, presort='deprecated',\n",
              "                       random_state=None, splitter='random')"
            ]
          },
          "metadata": {},
          "execution_count": 139
        }
      ]
    },
    {
      "cell_type": "code",
      "metadata": {
        "id": "21f2a3c7"
      },
      "source": [
        "y_pred=dt.predict(x_test)"
      ],
      "id": "21f2a3c7",
      "execution_count": 140,
      "outputs": []
    },
    {
      "cell_type": "code",
      "metadata": {
        "colab": {
          "base_uri": "https://localhost:8080/"
        },
        "id": "34b5cf8b",
        "outputId": "628ee69f-4c3d-4902-ce69-34c999d7152a"
      },
      "source": [
        "#calculation of accuracy score\n",
        "print('Train Data Score',accuracy_score(y_train,dt.predict(x_train))*100)\n",
        "print('Test Data Score',accuracy_score(y_test,dt.predict(x_test))*100)"
      ],
      "id": "34b5cf8b",
      "execution_count": 141,
      "outputs": [
        {
          "output_type": "stream",
          "name": "stdout",
          "text": [
            "Train Data Score 96.52567975830816\n",
            "Test Data Score 89.08450704225352\n"
          ]
        }
      ]
    },
    {
      "cell_type": "code",
      "metadata": {
        "colab": {
          "base_uri": "https://localhost:8080/"
        },
        "id": "18b5e63d",
        "outputId": "c33a7da1-e86d-46af-d31d-d0fb6f56446a"
      },
      "source": [
        "print(confusion_matrix(y_test,y_pred))"
      ],
      "id": "18b5e63d",
      "execution_count": 142,
      "outputs": [
        {
          "output_type": "stream",
          "name": "stdout",
          "text": [
            "[[129  13]\n",
            " [ 18 124]]\n"
          ]
        }
      ]
    },
    {
      "cell_type": "code",
      "metadata": {
        "colab": {
          "base_uri": "https://localhost:8080/"
        },
        "id": "63629d34",
        "outputId": "6964554c-5e3f-41b8-f033-d14a31764ed4"
      },
      "source": [
        "print(classification_report(y_test,y_pred))"
      ],
      "id": "63629d34",
      "execution_count": 143,
      "outputs": [
        {
          "output_type": "stream",
          "name": "stdout",
          "text": [
            "              precision    recall  f1-score   support\n",
            "\n",
            "           0       0.88      0.91      0.89       142\n",
            "           1       0.91      0.87      0.89       142\n",
            "\n",
            "    accuracy                           0.89       284\n",
            "   macro avg       0.89      0.89      0.89       284\n",
            "weighted avg       0.89      0.89      0.89       284\n",
            "\n"
          ]
        }
      ]
    },
    {
      "cell_type": "markdown",
      "metadata": {
        "id": "e8f0dc6b"
      },
      "source": [
        "**Test Accuracy obtained from DECISION TREE is 92.95%**"
      ],
      "id": "e8f0dc6b"
    },
    {
      "cell_type": "markdown",
      "metadata": {
        "id": "4319204d"
      },
      "source": [
        "**02.LOGISTIC REGRESSION**\n"
      ],
      "id": "4319204d"
    },
    {
      "cell_type": "code",
      "metadata": {
        "id": "640344f4"
      },
      "source": [
        "%%time\n",
        "from sklearn.linear_model import LogisticRegression\n",
        "from sklearn.model_selection import RandomizedSearchCV\n",
        "\n",
        "log_reg=LogisticRegression()\n",
        "\n",
        "parametre={\n",
        "    'penalty':['l2'],\n",
        "    'C':[1.0,2.0,3.0],\n",
        "    'random_state':[None],\n",
        "    'solver':['lbfgs'],\n",
        "    'max_iter':[100,400,600,1000]\n",
        "}\n",
        "\n",
        "rv=RandomizedSearchCV(log_reg,parametre)\n",
        "rv.fit(x_train,y_train)\n"
      ],
      "id": "640344f4",
      "execution_count": null,
      "outputs": []
    },
    {
      "cell_type": "code",
      "metadata": {
        "colab": {
          "base_uri": "https://localhost:8080/"
        },
        "id": "b6a74fdb",
        "outputId": "322d322d-441c-4a7f-92df-2a1d3c856614"
      },
      "source": [
        "rv.best_params_"
      ],
      "id": "b6a74fdb",
      "execution_count": 145,
      "outputs": [
        {
          "output_type": "execute_result",
          "data": {
            "text/plain": [
              "{'C': 1.0,\n",
              " 'max_iter': 600,\n",
              " 'penalty': 'l2',\n",
              " 'random_state': None,\n",
              " 'solver': 'lbfgs'}"
            ]
          },
          "metadata": {},
          "execution_count": 145
        }
      ]
    },
    {
      "cell_type": "code",
      "metadata": {
        "colab": {
          "base_uri": "https://localhost:8080/"
        },
        "id": "50661811",
        "outputId": "0cf4129a-d9b8-4862-9570-b96ee2d06403"
      },
      "source": [
        "rv.best_score_"
      ],
      "id": "50661811",
      "execution_count": 146,
      "outputs": [
        {
          "output_type": "execute_result",
          "data": {
            "text/plain": [
              "0.9350307587149691"
            ]
          },
          "metadata": {},
          "execution_count": 146
        }
      ]
    },
    {
      "cell_type": "code",
      "metadata": {
        "id": "209c6161"
      },
      "source": [
        "log_reg=LogisticRegression(solver= 'lbfgs',\n",
        " random_state= None,\n",
        " penalty= 'l2',\n",
        " max_iter= 600,\n",
        " C= 1.0)\n",
        "log_reg.fit(x_train,y_train)"
      ],
      "id": "209c6161",
      "execution_count": null,
      "outputs": []
    },
    {
      "cell_type": "code",
      "metadata": {
        "id": "16bc6148"
      },
      "source": [
        "y_pred=log_reg.predict(x_test)"
      ],
      "id": "16bc6148",
      "execution_count": 148,
      "outputs": []
    },
    {
      "cell_type": "code",
      "metadata": {
        "colab": {
          "base_uri": "https://localhost:8080/"
        },
        "id": "26facec5",
        "outputId": "282a3977-34b3-4d4e-b0c9-e6fb7da9c855"
      },
      "source": [
        "print('Train_Score',accuracy_score(y_train,log_reg.predict(x_train))*100)\n",
        "print('Test_Score',accuracy_score(y_test,log_reg.predict(x_test))*100)"
      ],
      "id": "26facec5",
      "execution_count": 149,
      "outputs": [
        {
          "output_type": "stream",
          "name": "stdout",
          "text": [
            "Train_Score 95.16616314199395\n",
            "Test_Score 92.25352112676056\n"
          ]
        }
      ]
    },
    {
      "cell_type": "code",
      "metadata": {
        "colab": {
          "base_uri": "https://localhost:8080/"
        },
        "id": "e3574089",
        "outputId": "4ef33675-2b97-43d6-b61f-82325a031c14"
      },
      "source": [
        "print(confusion_matrix(y_test,y_pred))"
      ],
      "id": "e3574089",
      "execution_count": 150,
      "outputs": [
        {
          "output_type": "stream",
          "name": "stdout",
          "text": [
            "[[134   8]\n",
            " [ 14 128]]\n"
          ]
        }
      ]
    },
    {
      "cell_type": "code",
      "metadata": {
        "colab": {
          "base_uri": "https://localhost:8080/"
        },
        "id": "87c12408",
        "outputId": "9e154fa2-9697-4334-ba91-87c38dd7ce7a"
      },
      "source": [
        "print(classification_report(y_test,y_pred))"
      ],
      "id": "87c12408",
      "execution_count": 151,
      "outputs": [
        {
          "output_type": "stream",
          "name": "stdout",
          "text": [
            "              precision    recall  f1-score   support\n",
            "\n",
            "           0       0.91      0.94      0.92       142\n",
            "           1       0.94      0.90      0.92       142\n",
            "\n",
            "    accuracy                           0.92       284\n",
            "   macro avg       0.92      0.92      0.92       284\n",
            "weighted avg       0.92      0.92      0.92       284\n",
            "\n"
          ]
        }
      ]
    },
    {
      "cell_type": "markdown",
      "metadata": {
        "id": "ac00e3f3"
      },
      "source": [
        "**Test Accuracy obtained from LOGISTIC REGRESSION is 92.60%**"
      ],
      "id": "ac00e3f3"
    },
    {
      "cell_type": "markdown",
      "metadata": {
        "id": "ed19ef6b"
      },
      "source": [
        "**03.RANDOM FOREST CLASSIFIER**"
      ],
      "id": "ed19ef6b"
    },
    {
      "cell_type": "code",
      "metadata": {
        "colab": {
          "base_uri": "https://localhost:8080/"
        },
        "id": "091f7091",
        "outputId": "5e37dff0-1bce-4217-bd6e-c9701c01c3a2"
      },
      "source": [
        "%%time\n",
        "from sklearn.ensemble import RandomForestClassifier\n",
        "\n",
        "\n",
        "random_class=RandomForestClassifier()\n",
        "\n",
        "para_meter={'n_estimators':[100,200,300,500],\n",
        "            'criterion':['gini'],\n",
        "            'max_depth':[3,5,10,20,None],\n",
        "            'min_samples_split':[2,5,10,12],\n",
        "            'min_samples_leaf':[1,2,3,4]\n",
        "    \n",
        "}\n",
        "\n",
        "rsv=RandomizedSearchCV(random_class,para_meter,n_jobs=-1)\n",
        "rsv.fit(x_train,y_train)\n"
      ],
      "id": "091f7091",
      "execution_count": 152,
      "outputs": [
        {
          "output_type": "stream",
          "name": "stdout",
          "text": [
            "CPU times: user 583 ms, sys: 65.5 ms, total: 648 ms\n",
            "Wall time: 26.2 s\n"
          ]
        }
      ]
    },
    {
      "cell_type": "code",
      "metadata": {
        "colab": {
          "base_uri": "https://localhost:8080/"
        },
        "id": "0da18d52",
        "outputId": "2d9b4c3f-5262-42fb-ec3c-6d84886d7aaa"
      },
      "source": [
        "rsv.best_params_"
      ],
      "id": "0da18d52",
      "execution_count": 153,
      "outputs": [
        {
          "output_type": "execute_result",
          "data": {
            "text/plain": [
              "{'criterion': 'gini',\n",
              " 'max_depth': None,\n",
              " 'min_samples_leaf': 4,\n",
              " 'min_samples_split': 2,\n",
              " 'n_estimators': 100}"
            ]
          },
          "metadata": {},
          "execution_count": 153
        }
      ]
    },
    {
      "cell_type": "code",
      "metadata": {
        "colab": {
          "base_uri": "https://localhost:8080/"
        },
        "id": "b03d86e7",
        "outputId": "c362a315-7f6a-4803-dd9e-ba918ed5e9f4"
      },
      "source": [
        "rsv.best_score_"
      ],
      "id": "b03d86e7",
      "execution_count": 154,
      "outputs": [
        {
          "output_type": "execute_result",
          "data": {
            "text/plain": [
              "0.9440988835725678"
            ]
          },
          "metadata": {},
          "execution_count": 154
        }
      ]
    },
    {
      "cell_type": "code",
      "metadata": {
        "colab": {
          "base_uri": "https://localhost:8080/"
        },
        "id": "f69ad724",
        "outputId": "f9cd9b63-d580-429b-c430-ee048404a324"
      },
      "source": [
        "random_class=RandomForestClassifier(n_estimators= 500,\n",
        " min_samples_split=10,\n",
        " min_samples_leaf=2,\n",
        " max_depth= 20,\n",
        " criterion= 'gini')\n",
        "random_class.fit(x_train,y_train)"
      ],
      "id": "f69ad724",
      "execution_count": 155,
      "outputs": [
        {
          "output_type": "execute_result",
          "data": {
            "text/plain": [
              "RandomForestClassifier(bootstrap=True, ccp_alpha=0.0, class_weight=None,\n",
              "                       criterion='gini', max_depth=20, max_features='auto',\n",
              "                       max_leaf_nodes=None, max_samples=None,\n",
              "                       min_impurity_decrease=0.0, min_impurity_split=None,\n",
              "                       min_samples_leaf=2, min_samples_split=10,\n",
              "                       min_weight_fraction_leaf=0.0, n_estimators=500,\n",
              "                       n_jobs=None, oob_score=False, random_state=None,\n",
              "                       verbose=0, warm_start=False)"
            ]
          },
          "metadata": {},
          "execution_count": 155
        }
      ]
    },
    {
      "cell_type": "code",
      "metadata": {
        "id": "7c2a0da3"
      },
      "source": [
        "y_pred=random_class.predict(x_test)"
      ],
      "id": "7c2a0da3",
      "execution_count": 156,
      "outputs": []
    },
    {
      "cell_type": "code",
      "metadata": {
        "colab": {
          "base_uri": "https://localhost:8080/"
        },
        "id": "ea23df53",
        "outputId": "c601cb62-51b6-4272-fa82-67cae1035923"
      },
      "source": [
        "#calculation of accuracy score\n",
        "print('Train Data Score',accuracy_score(y_train,random_class.predict(x_train))*100)\n",
        "print('Test Data Score',accuracy_score(y_test,random_class.predict(x_test))*100)"
      ],
      "id": "ea23df53",
      "execution_count": 157,
      "outputs": [
        {
          "output_type": "stream",
          "name": "stdout",
          "text": [
            "Train Data Score 97.58308157099698\n",
            "Test Data Score 93.66197183098592\n"
          ]
        }
      ]
    },
    {
      "cell_type": "code",
      "metadata": {
        "colab": {
          "base_uri": "https://localhost:8080/"
        },
        "id": "e7955200",
        "outputId": "eb9a3a8e-ce42-47e7-af87-ea89f95b8eea"
      },
      "source": [
        "print(confusion_matrix(y_test,y_pred))"
      ],
      "id": "e7955200",
      "execution_count": 158,
      "outputs": [
        {
          "output_type": "stream",
          "name": "stdout",
          "text": [
            "[[140   2]\n",
            " [ 16 126]]\n"
          ]
        }
      ]
    },
    {
      "cell_type": "code",
      "metadata": {
        "colab": {
          "base_uri": "https://localhost:8080/"
        },
        "id": "44718106",
        "outputId": "ab8bbb22-77e1-4101-f82b-c61a9982c7a4"
      },
      "source": [
        "print(classification_report(y_test,y_pred))"
      ],
      "id": "44718106",
      "execution_count": 159,
      "outputs": [
        {
          "output_type": "stream",
          "name": "stdout",
          "text": [
            "              precision    recall  f1-score   support\n",
            "\n",
            "           0       0.90      0.99      0.94       142\n",
            "           1       0.98      0.89      0.93       142\n",
            "\n",
            "    accuracy                           0.94       284\n",
            "   macro avg       0.94      0.94      0.94       284\n",
            "weighted avg       0.94      0.94      0.94       284\n",
            "\n"
          ]
        }
      ]
    },
    {
      "cell_type": "markdown",
      "metadata": {
        "id": "95f36ebe"
      },
      "source": [
        "**Test Accuracy obtained from RANDOM FOREST CLASSIFIER is 94.36%**"
      ],
      "id": "95f36ebe"
    },
    {
      "cell_type": "markdown",
      "metadata": {
        "id": "749f805b"
      },
      "source": [
        "**04. KNN Classifier**"
      ],
      "id": "749f805b"
    },
    {
      "cell_type": "code",
      "metadata": {
        "colab": {
          "base_uri": "https://localhost:8080/"
        },
        "id": "553e2590",
        "outputId": "b0854762-ac44-4ae0-8e06-d4b5132e3f16"
      },
      "source": [
        "%%time\n",
        "from sklearn.neighbors import KNeighborsClassifier\n",
        "from sklearn.model_selection import GridSearchCV\n",
        "KNN=KNeighborsClassifier()\n",
        "para_meter={'n_neighbors':[3,5,7,10,50,100],\n",
        "            'weights':[ 'distance'],\n",
        "            'algorithm':['auto']\n",
        "            \n",
        "}\n",
        "\n",
        "rsv=GridSearchCV(KNN,para_meter)\n",
        "rsv.fit(x_train,y_train)"
      ],
      "id": "553e2590",
      "execution_count": 160,
      "outputs": [
        {
          "output_type": "stream",
          "name": "stdout",
          "text": [
            "CPU times: user 140 ms, sys: 20 µs, total: 140 ms\n",
            "Wall time: 141 ms\n"
          ]
        }
      ]
    },
    {
      "cell_type": "code",
      "metadata": {
        "colab": {
          "base_uri": "https://localhost:8080/"
        },
        "id": "57605b33",
        "outputId": "301b0bf7-db99-4f8c-87bd-a978ba48124d"
      },
      "source": [
        "rsv.best_params_"
      ],
      "id": "57605b33",
      "execution_count": 161,
      "outputs": [
        {
          "output_type": "execute_result",
          "data": {
            "text/plain": [
              "{'algorithm': 'auto', 'n_neighbors': 10, 'weights': 'distance'}"
            ]
          },
          "metadata": {},
          "execution_count": 161
        }
      ]
    },
    {
      "cell_type": "code",
      "metadata": {
        "colab": {
          "base_uri": "https://localhost:8080/"
        },
        "id": "6ed67d36",
        "outputId": "c8785eaf-354f-4a13-e7c8-a46927e6fa72"
      },
      "source": [
        "rsv.best_score_"
      ],
      "id": "6ed67d36",
      "execution_count": 162,
      "outputs": [
        {
          "output_type": "execute_result",
          "data": {
            "text/plain": [
              "0.6525746183640921"
            ]
          },
          "metadata": {},
          "execution_count": 162
        }
      ]
    },
    {
      "cell_type": "code",
      "metadata": {
        "colab": {
          "base_uri": "https://localhost:8080/"
        },
        "id": "5acf0217",
        "outputId": "bc5a3cb8-d5d9-4ebf-bb53-c64b0ee5fa71"
      },
      "source": [
        "%%time\n",
        "KNN=KNeighborsClassifier(weights ='distance',\n",
        " n_neighbors= 10,\n",
        " algorithm= 'auto')\n",
        "KNN.fit(x_train,y_train)"
      ],
      "id": "5acf0217",
      "execution_count": 163,
      "outputs": [
        {
          "output_type": "stream",
          "name": "stdout",
          "text": [
            "CPU times: user 3.38 ms, sys: 34 µs, total: 3.41 ms\n",
            "Wall time: 3.28 ms\n"
          ]
        }
      ]
    },
    {
      "cell_type": "code",
      "metadata": {
        "id": "4f1fe7de"
      },
      "source": [
        "#model prediction\n",
        "y_pred = KNN.predict(x_test)"
      ],
      "id": "4f1fe7de",
      "execution_count": 164,
      "outputs": []
    },
    {
      "cell_type": "code",
      "metadata": {
        "colab": {
          "base_uri": "https://localhost:8080/"
        },
        "id": "0d857a36",
        "outputId": "1ee2ae41-b0fc-4965-930f-a2e04dedf67d"
      },
      "source": [
        "# Accuracy score of train and test data\n",
        "print(\"Train Data\",KNN.score(x_train,y_train)*100)\n",
        "print(\"Test Data\",KNN.score(x_test,y_test)*100)"
      ],
      "id": "0d857a36",
      "execution_count": 165,
      "outputs": [
        {
          "output_type": "stream",
          "name": "stdout",
          "text": [
            "Train Data 100.0\n",
            "Test Data 62.323943661971825\n"
          ]
        }
      ]
    },
    {
      "cell_type": "code",
      "metadata": {
        "colab": {
          "base_uri": "https://localhost:8080/"
        },
        "id": "7587b7ae",
        "outputId": "5fd6c745-34ff-4a5d-b532-e90bd978247f"
      },
      "source": [
        "# Confusion matrix\n",
        "print(confusion_matrix(y_test,y_pred))"
      ],
      "id": "7587b7ae",
      "execution_count": 166,
      "outputs": [
        {
          "output_type": "stream",
          "name": "stdout",
          "text": [
            "[[80 62]\n",
            " [45 97]]\n"
          ]
        }
      ]
    },
    {
      "cell_type": "code",
      "metadata": {
        "colab": {
          "base_uri": "https://localhost:8080/"
        },
        "id": "7dbf3854",
        "outputId": "cc37d373-e4a9-4c56-f008-446a9eef8cc9"
      },
      "source": [
        "#Classification Report\n",
        "print(classification_report(y_test,y_pred))"
      ],
      "id": "7dbf3854",
      "execution_count": 167,
      "outputs": [
        {
          "output_type": "stream",
          "name": "stdout",
          "text": [
            "              precision    recall  f1-score   support\n",
            "\n",
            "           0       0.64      0.56      0.60       142\n",
            "           1       0.61      0.68      0.64       142\n",
            "\n",
            "    accuracy                           0.62       284\n",
            "   macro avg       0.63      0.62      0.62       284\n",
            "weighted avg       0.63      0.62      0.62       284\n",
            "\n"
          ]
        }
      ]
    },
    {
      "cell_type": "markdown",
      "metadata": {
        "id": "6b39a582"
      },
      "source": [
        "**Test Accuracy obtained from KNN Classifier is 65.49%**"
      ],
      "id": "6b39a582"
    },
    {
      "cell_type": "markdown",
      "metadata": {
        "id": "ed627992"
      },
      "source": [
        "# 06.Conclusion"
      ],
      "id": "ed627992"
    },
    {
      "cell_type": "markdown",
      "metadata": {
        "id": "18f7f7d6"
      },
      "source": [
        "**Test Accuracy obtained from DECISION TREE is 92.95%**\n",
        "\n",
        "**Test Accuracy obtained from LOGISTIC REGRESSION is 92.60%**\n",
        "\n",
        "**Test Accuracy obtained from RANDOM FOREST CLASSIFIER is 94.36%**\n",
        "\n",
        "**Test Accuracy obtained from KNN Classifier is 65.49%**"
      ],
      "id": "18f7f7d6"
    },
    {
      "cell_type": "code",
      "metadata": {
        "id": "7c50b404"
      },
      "source": [
        ""
      ],
      "id": "7c50b404",
      "execution_count": 167,
      "outputs": []
    }
  ]
}